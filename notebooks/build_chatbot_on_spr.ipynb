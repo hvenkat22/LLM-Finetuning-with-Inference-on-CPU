{
 "cells": [
  {
   "cell_type": "markdown",
   "metadata": {},
   "source": [
    "NeuralChat is a customizable chat framework designed to create user own chatbot within few minutes on multiple architectures. This notebook is used to demonstrate how to build a talking chatbot on 4th Generation of Intel® Xeon® Scalable Processors Sapphire Rapids.\n",
    "\n",
    "The 4th Generation of Intel® Xeon® Scalable processor provides two instruction sets viz. AMX_BF16 and AMX_INT8 which provides acceleration for bfloat16 and int8 operations respectively."
   ]
  },
  {
   "cell_type": "markdown",
   "metadata": {},
   "source": [
    "# Prepare Environment"
   ]
  },
  {
   "cell_type": "markdown",
   "metadata": {},
   "source": [
    "Install intel extension for transformers:"
   ]
  },
  {
   "cell_type": "code",
   "execution_count": 5,
   "metadata": {},
   "outputs": [
    {
     "name": "stderr",
     "output_type": "stream",
     "text": [
      "huggingface/tokenizers: The current process just got forked, after parallelism has already been used. Disabling parallelism to avoid deadlocks...\n",
      "To disable this warning, you can either:\n",
      "\t- Avoid using `tokenizers` before the fork if possible\n",
      "\t- Explicitly set the environment variable TOKENIZERS_PARALLELISM=(true | false)\n"
     ]
    },
    {
     "name": "stdout",
     "output_type": "stream",
     "text": [
      "Defaulting to user installation because normal site-packages is not writeable\n",
      "Requirement already satisfied: intel-extension-for-transformers in /home/u41a5ebdbca214faa0191cc237aed1b9/.local/lib/python3.9/site-packages (1.4.2)\n",
      "Requirement already satisfied: packaging in /opt/intel/oneapi/intelpython/lib/python3.9/site-packages (from intel-extension-for-transformers) (23.2)\n",
      "Requirement already satisfied: numpy in /home/u41a5ebdbca214faa0191cc237aed1b9/.local/lib/python3.9/site-packages (from intel-extension-for-transformers) (1.23.5)\n",
      "Requirement already satisfied: schema in /home/u41a5ebdbca214faa0191cc237aed1b9/.local/lib/python3.9/site-packages (from intel-extension-for-transformers) (0.7.7)\n",
      "Requirement already satisfied: pyyaml in /opt/intel/oneapi/intelpython/lib/python3.9/site-packages (from intel-extension-for-transformers) (6.0.1)\n",
      "Requirement already satisfied: neural-compressor in /home/u41a5ebdbca214faa0191cc237aed1b9/.local/lib/python3.9/site-packages (from intel-extension-for-transformers) (2.6)\n",
      "Requirement already satisfied: transformers in /home/u41a5ebdbca214faa0191cc237aed1b9/.local/lib/python3.9/site-packages (from intel-extension-for-transformers) (4.41.2)\n",
      "Requirement already satisfied: deprecated>=1.2.13 in /home/u41a5ebdbca214faa0191cc237aed1b9/.local/lib/python3.9/site-packages (from neural-compressor->intel-extension-for-transformers) (1.2.14)\n",
      "Requirement already satisfied: opencv-python-headless in /home/u41a5ebdbca214faa0191cc237aed1b9/.local/lib/python3.9/site-packages (from neural-compressor->intel-extension-for-transformers) (4.10.0.84)\n",
      "Requirement already satisfied: pandas in /opt/intel/oneapi/intelpython/lib/python3.9/site-packages (from neural-compressor->intel-extension-for-transformers) (2.2.2)\n",
      "Requirement already satisfied: Pillow in /opt/intel/oneapi/intelpython/lib/python3.9/site-packages (from neural-compressor->intel-extension-for-transformers) (10.2.0)\n",
      "Requirement already satisfied: prettytable in /home/u41a5ebdbca214faa0191cc237aed1b9/.local/lib/python3.9/site-packages (from neural-compressor->intel-extension-for-transformers) (3.10.0)\n",
      "Requirement already satisfied: psutil in /opt/intel/oneapi/intelpython/lib/python3.9/site-packages (from neural-compressor->intel-extension-for-transformers) (5.9.8)\n",
      "Requirement already satisfied: py-cpuinfo in /home/u41a5ebdbca214faa0191cc237aed1b9/.local/lib/python3.9/site-packages (from neural-compressor->intel-extension-for-transformers) (9.0.0)\n",
      "Requirement already satisfied: requests in /home/u41a5ebdbca214faa0191cc237aed1b9/.local/lib/python3.9/site-packages (from neural-compressor->intel-extension-for-transformers) (2.32.3)\n",
      "Requirement already satisfied: scikit-learn in /opt/intel/oneapi/intelpython/lib/python3.9/site-packages (from neural-compressor->intel-extension-for-transformers) (1.4.0)\n",
      "Requirement already satisfied: pycocotools in /home/u41a5ebdbca214faa0191cc237aed1b9/.local/lib/python3.9/site-packages (from neural-compressor->intel-extension-for-transformers) (2.0.8)\n",
      "Requirement already satisfied: filelock in /home/u41a5ebdbca214faa0191cc237aed1b9/.local/lib/python3.9/site-packages (from transformers->intel-extension-for-transformers) (3.15.4)\n",
      "Requirement already satisfied: huggingface-hub<1.0,>=0.23.0 in /home/u41a5ebdbca214faa0191cc237aed1b9/.local/lib/python3.9/site-packages (from transformers->intel-extension-for-transformers) (0.23.4)\n",
      "Requirement already satisfied: regex!=2019.12.17 in /home/u41a5ebdbca214faa0191cc237aed1b9/.local/lib/python3.9/site-packages (from transformers->intel-extension-for-transformers) (2024.5.15)\n",
      "Requirement already satisfied: tokenizers<0.20,>=0.19 in /home/u41a5ebdbca214faa0191cc237aed1b9/.local/lib/python3.9/site-packages (from transformers->intel-extension-for-transformers) (0.19.1)\n",
      "Requirement already satisfied: safetensors>=0.4.1 in /home/u41a5ebdbca214faa0191cc237aed1b9/.local/lib/python3.9/site-packages (from transformers->intel-extension-for-transformers) (0.4.3)\n",
      "Requirement already satisfied: tqdm>=4.27 in /home/u41a5ebdbca214faa0191cc237aed1b9/.local/lib/python3.9/site-packages (from transformers->intel-extension-for-transformers) (4.66.4)\n",
      "Requirement already satisfied: wrapt<2,>=1.10 in /home/u41a5ebdbca214faa0191cc237aed1b9/.local/lib/python3.9/site-packages (from deprecated>=1.2.13->neural-compressor->intel-extension-for-transformers) (1.16.0)\n",
      "Requirement already satisfied: fsspec>=2023.5.0 in /home/u41a5ebdbca214faa0191cc237aed1b9/.local/lib/python3.9/site-packages (from huggingface-hub<1.0,>=0.23.0->transformers->intel-extension-for-transformers) (2024.5.0)\n",
      "Requirement already satisfied: typing-extensions>=3.7.4.3 in /home/u41a5ebdbca214faa0191cc237aed1b9/.local/lib/python3.9/site-packages (from huggingface-hub<1.0,>=0.23.0->transformers->intel-extension-for-transformers) (4.12.2)\n",
      "Requirement already satisfied: python-dateutil>=2.8.2 in /opt/intel/oneapi/intelpython/lib/python3.9/site-packages (from pandas->neural-compressor->intel-extension-for-transformers) (2.8.2)\n",
      "Requirement already satisfied: pytz>=2020.1 in /opt/intel/oneapi/intelpython/lib/python3.9/site-packages (from pandas->neural-compressor->intel-extension-for-transformers) (2024.1)\n",
      "Requirement already satisfied: tzdata>=2022.7 in /opt/intel/oneapi/intelpython/lib/python3.9/site-packages (from pandas->neural-compressor->intel-extension-for-transformers) (2023.4)\n",
      "Requirement already satisfied: wcwidth in /opt/intel/oneapi/intelpython/lib/python3.9/site-packages (from prettytable->neural-compressor->intel-extension-for-transformers) (0.2.13)\n",
      "Requirement already satisfied: matplotlib>=2.1.0 in /opt/intel/oneapi/intelpython/lib/python3.9/site-packages (from pycocotools->neural-compressor->intel-extension-for-transformers) (3.8.2)\n",
      "Requirement already satisfied: charset-normalizer<4,>=2 in /opt/intel/oneapi/intelpython/lib/python3.9/site-packages (from requests->neural-compressor->intel-extension-for-transformers) (3.3.2)\n",
      "Requirement already satisfied: idna<4,>=2.5 in /opt/intel/oneapi/intelpython/lib/python3.9/site-packages (from requests->neural-compressor->intel-extension-for-transformers) (3.6)\n",
      "Requirement already satisfied: urllib3<3,>=1.21.1 in /opt/intel/oneapi/intelpython/lib/python3.9/site-packages (from requests->neural-compressor->intel-extension-for-transformers) (2.2.1)\n",
      "Requirement already satisfied: certifi>=2017.4.17 in /opt/intel/oneapi/intelpython/lib/python3.9/site-packages (from requests->neural-compressor->intel-extension-for-transformers) (2024.2.2)\n",
      "Requirement already satisfied: scipy>=1.6.0 in /opt/intel/oneapi/intelpython/lib/python3.9/site-packages (from scikit-learn->neural-compressor->intel-extension-for-transformers) (1.10.1)\n",
      "Requirement already satisfied: joblib>=1.2.0 in /opt/intel/oneapi/intelpython/lib/python3.9/site-packages (from scikit-learn->neural-compressor->intel-extension-for-transformers) (1.3.2)\n",
      "Requirement already satisfied: threadpoolctl>=2.0.0 in /opt/intel/oneapi/intelpython/lib/python3.9/site-packages (from scikit-learn->neural-compressor->intel-extension-for-transformers) (3.3.0)\n",
      "Requirement already satisfied: contourpy>=1.0.1 in /opt/intel/oneapi/intelpython/lib/python3.9/site-packages (from matplotlib>=2.1.0->pycocotools->neural-compressor->intel-extension-for-transformers) (1.2.0)\n",
      "Requirement already satisfied: cycler>=0.10 in /opt/intel/oneapi/intelpython/lib/python3.9/site-packages (from matplotlib>=2.1.0->pycocotools->neural-compressor->intel-extension-for-transformers) (0.12.1)\n",
      "Requirement already satisfied: fonttools>=4.22.0 in /opt/intel/oneapi/intelpython/lib/python3.9/site-packages (from matplotlib>=2.1.0->pycocotools->neural-compressor->intel-extension-for-transformers) (4.47.2)\n",
      "Requirement already satisfied: kiwisolver>=1.3.1 in /opt/intel/oneapi/intelpython/lib/python3.9/site-packages (from matplotlib>=2.1.0->pycocotools->neural-compressor->intel-extension-for-transformers) (1.4.5)\n",
      "Requirement already satisfied: pyparsing>=2.3.1 in /opt/intel/oneapi/intelpython/lib/python3.9/site-packages (from matplotlib>=2.1.0->pycocotools->neural-compressor->intel-extension-for-transformers) (3.1.1)\n",
      "Requirement already satisfied: importlib-resources>=3.2.0 in /opt/intel/oneapi/intelpython/lib/python3.9/site-packages (from matplotlib>=2.1.0->pycocotools->neural-compressor->intel-extension-for-transformers) (6.1.1)\n",
      "Requirement already satisfied: six>=1.5 in /opt/intel/oneapi/intelpython/lib/python3.9/site-packages (from python-dateutil>=2.8.2->pandas->neural-compressor->intel-extension-for-transformers) (1.16.0)\n",
      "Requirement already satisfied: zipp>=3.1.0 in /opt/intel/oneapi/intelpython/lib/python3.9/site-packages (from importlib-resources>=3.2.0->matplotlib>=2.1.0->pycocotools->neural-compressor->intel-extension-for-transformers) (3.17.0)\n"
     ]
    }
   ],
   "source": [
    "!pip install intel-extension-for-transformers"
   ]
  },
  {
   "cell_type": "markdown",
   "metadata": {},
   "source": [
    "Install Requirements:"
   ]
  },
  {
   "cell_type": "code",
   "execution_count": 6,
   "metadata": {},
   "outputs": [
    {
     "name": "stderr",
     "output_type": "stream",
     "text": [
      "huggingface/tokenizers: The current process just got forked, after parallelism has already been used. Disabling parallelism to avoid deadlocks...\n",
      "To disable this warning, you can either:\n",
      "\t- Avoid using `tokenizers` before the fork if possible\n",
      "\t- Explicitly set the environment variable TOKENIZERS_PARALLELISM=(true | false)\n"
     ]
    },
    {
     "name": "stdout",
     "output_type": "stream",
     "text": [
      "fatal: destination path 'intel-extension-for-transformers' already exists and is not an empty directory.\n"
     ]
    }
   ],
   "source": [
    "!git clone https://github.com/intel/intel-extension-for-transformers.git"
   ]
  },
  {
   "cell_type": "code",
   "execution_count": 7,
   "metadata": {},
   "outputs": [
    {
     "name": "stdout",
     "output_type": "stream",
     "text": [
      "/home/u41a5ebdbca214faa0191cc237aed1b9/intel-extension-for-transformers/intel_extension_for_transformers/neural_chat/docs/notebooks/intel-extension-for-transformers/intel_extension_for_transformers/neural_chat\n"
     ]
    },
    {
     "name": "stderr",
     "output_type": "stream",
     "text": [
      "huggingface/tokenizers: The current process just got forked, after parallelism has already been used. Disabling parallelism to avoid deadlocks...\n",
      "To disable this warning, you can either:\n",
      "\t- Avoid using `tokenizers` before the fork if possible\n",
      "\t- Explicitly set the environment variable TOKENIZERS_PARALLELISM=(true | false)\n"
     ]
    },
    {
     "name": "stdout",
     "output_type": "stream",
     "text": [
      "Defaulting to user installation because normal site-packages is not writeable\n",
      "Looking in indexes: https://pypi.org/simple, https://pytorch-extension.intel.com/release-whl/stable/cpu/us/\n",
      "Requirement already satisfied: accelerate==0.28.0 in /home/u41a5ebdbca214faa0191cc237aed1b9/.local/lib/python3.9/site-packages (from -r requirements_cpu.txt (line 2)) (0.28.0)\n",
      "Requirement already satisfied: cchardet in /home/u41a5ebdbca214faa0191cc237aed1b9/.local/lib/python3.9/site-packages (from -r requirements_cpu.txt (line 3)) (2.1.7)\n",
      "Requirement already satisfied: einops in /home/u41a5ebdbca214faa0191cc237aed1b9/.local/lib/python3.9/site-packages (from -r requirements_cpu.txt (line 4)) (0.8.0)\n",
      "Requirement already satisfied: evaluate in /home/u41a5ebdbca214faa0191cc237aed1b9/.local/lib/python3.9/site-packages (from -r requirements_cpu.txt (line 5)) (0.4.2)\n",
      "Requirement already satisfied: fastapi in /home/u41a5ebdbca214faa0191cc237aed1b9/.local/lib/python3.9/site-packages (from -r requirements_cpu.txt (line 6)) (0.111.0)\n",
      "Collecting fschat==0.2.32 (from -r requirements_cpu.txt (line 7))\n",
      "  Using cached fschat-0.2.32-py3-none-any.whl.metadata (20 kB)\n",
      "Requirement already satisfied: huggingface_hub in /home/u41a5ebdbca214faa0191cc237aed1b9/.local/lib/python3.9/site-packages (from -r requirements_cpu.txt (line 8)) (0.23.4)\n",
      "Requirement already satisfied: intel_extension_for_pytorch==2.3.0 in /home/u41a5ebdbca214faa0191cc237aed1b9/.local/lib/python3.9/site-packages (from -r requirements_cpu.txt (line 9)) (2.3.0+cpu)\n",
      "Requirement already satisfied: lm-eval in /home/u41a5ebdbca214faa0191cc237aed1b9/.local/lib/python3.9/site-packages (from -r requirements_cpu.txt (line 10)) (0.4.2)\n",
      "Requirement already satisfied: neural-compressor in /home/u41a5ebdbca214faa0191cc237aed1b9/.local/lib/python3.9/site-packages (from -r requirements_cpu.txt (line 11)) (2.6)\n",
      "Requirement already satisfied: neural_speed==1.0a0 in /home/u41a5ebdbca214faa0191cc237aed1b9/.local/lib/python3.9/site-packages (from -r requirements_cpu.txt (line 12)) (1.0a0)\n",
      "Requirement already satisfied: numpy==1.23.5 in /home/u41a5ebdbca214faa0191cc237aed1b9/.local/lib/python3.9/site-packages (from -r requirements_cpu.txt (line 13)) (1.23.5)\n",
      "Requirement already satisfied: oneccl_bind_pt in /home/u41a5ebdbca214faa0191cc237aed1b9/.local/lib/python3.9/site-packages (from -r requirements_cpu.txt (line 14)) (2.3.0+cpu)\n",
      "Requirement already satisfied: optimum in /home/u41a5ebdbca214faa0191cc237aed1b9/.local/lib/python3.9/site-packages (from -r requirements_cpu.txt (line 15)) (1.20.0)\n",
      "Requirement already satisfied: optimum-intel in /home/u41a5ebdbca214faa0191cc237aed1b9/.local/lib/python3.9/site-packages (from -r requirements_cpu.txt (line 16)) (1.18.0)\n",
      "Requirement already satisfied: peft==0.6.2 in /home/u41a5ebdbca214faa0191cc237aed1b9/.local/lib/python3.9/site-packages (from -r requirements_cpu.txt (line 17)) (0.6.2)\n",
      "Requirement already satisfied: pydantic==1.10.13 in /home/u41a5ebdbca214faa0191cc237aed1b9/.local/lib/python3.9/site-packages (from -r requirements_cpu.txt (line 18)) (1.10.13)\n",
      "Requirement already satisfied: python-dotenv in /home/u41a5ebdbca214faa0191cc237aed1b9/.local/lib/python3.9/site-packages (from -r requirements_cpu.txt (line 19)) (1.0.1)\n",
      "Requirement already satisfied: python-multipart in /home/u41a5ebdbca214faa0191cc237aed1b9/.local/lib/python3.9/site-packages (from -r requirements_cpu.txt (line 20)) (0.0.9)\n",
      "Requirement already satisfied: rouge_score in /home/u41a5ebdbca214faa0191cc237aed1b9/.local/lib/python3.9/site-packages (from -r requirements_cpu.txt (line 21)) (0.1.2)\n",
      "Requirement already satisfied: sacremoses in /home/u41a5ebdbca214faa0191cc237aed1b9/.local/lib/python3.9/site-packages (from -r requirements_cpu.txt (line 22)) (0.1.1)\n",
      "Requirement already satisfied: shortuuid in /home/u41a5ebdbca214faa0191cc237aed1b9/.local/lib/python3.9/site-packages (from -r requirements_cpu.txt (line 23)) (1.0.13)\n",
      "Requirement already satisfied: starlette in /home/u41a5ebdbca214faa0191cc237aed1b9/.local/lib/python3.9/site-packages (from -r requirements_cpu.txt (line 24)) (0.37.2)\n",
      "Requirement already satisfied: tiktoken==0.4.0 in /home/u41a5ebdbca214faa0191cc237aed1b9/.local/lib/python3.9/site-packages (from -r requirements_cpu.txt (line 25)) (0.4.0)\n",
      "Requirement already satisfied: torch==2.3.0 in /home/u41a5ebdbca214faa0191cc237aed1b9/.local/lib/python3.9/site-packages (from -r requirements_cpu.txt (line 26)) (2.3.0)\n",
      "Requirement already satisfied: torchaudio==2.3.0 in /home/u41a5ebdbca214faa0191cc237aed1b9/.local/lib/python3.9/site-packages (from -r requirements_cpu.txt (line 27)) (2.3.0)\n",
      "Requirement already satisfied: transformers>=4.35.2 in /home/u41a5ebdbca214faa0191cc237aed1b9/.local/lib/python3.9/site-packages (from -r requirements_cpu.txt (line 28)) (4.41.2)\n",
      "Requirement already satisfied: transformers_stream_generator in /home/u41a5ebdbca214faa0191cc237aed1b9/.local/lib/python3.9/site-packages (from -r requirements_cpu.txt (line 29)) (0.0.5)\n",
      "Requirement already satisfied: uvicorn in /home/u41a5ebdbca214faa0191cc237aed1b9/.local/lib/python3.9/site-packages (from -r requirements_cpu.txt (line 30)) (0.30.1)\n",
      "Requirement already satisfied: yacs in /home/u41a5ebdbca214faa0191cc237aed1b9/.local/lib/python3.9/site-packages (from -r requirements_cpu.txt (line 31)) (0.1.8)\n",
      "Requirement already satisfied: packaging>=20.0 in /opt/intel/oneapi/intelpython/lib/python3.9/site-packages (from accelerate==0.28.0->-r requirements_cpu.txt (line 2)) (23.2)\n",
      "Requirement already satisfied: psutil in /opt/intel/oneapi/intelpython/lib/python3.9/site-packages (from accelerate==0.28.0->-r requirements_cpu.txt (line 2)) (5.9.8)\n",
      "Requirement already satisfied: pyyaml in /opt/intel/oneapi/intelpython/lib/python3.9/site-packages (from accelerate==0.28.0->-r requirements_cpu.txt (line 2)) (6.0.1)\n",
      "Requirement already satisfied: safetensors>=0.3.1 in /home/u41a5ebdbca214faa0191cc237aed1b9/.local/lib/python3.9/site-packages (from accelerate==0.28.0->-r requirements_cpu.txt (line 2)) (0.4.3)\n",
      "Requirement already satisfied: aiohttp in /home/u41a5ebdbca214faa0191cc237aed1b9/.local/lib/python3.9/site-packages (from fschat==0.2.32->-r requirements_cpu.txt (line 7)) (3.9.5)\n",
      "Requirement already satisfied: httpx in /opt/intel/oneapi/intelpython/lib/python3.9/site-packages (from fschat==0.2.32->-r requirements_cpu.txt (line 7)) (0.27.0)\n",
      "Requirement already satisfied: markdown2[all] in /home/u41a5ebdbca214faa0191cc237aed1b9/.local/lib/python3.9/site-packages (from fschat==0.2.32->-r requirements_cpu.txt (line 7)) (2.4.13)\n",
      "Requirement already satisfied: nh3 in /home/u41a5ebdbca214faa0191cc237aed1b9/.local/lib/python3.9/site-packages (from fschat==0.2.32->-r requirements_cpu.txt (line 7)) (0.2.17)\n",
      "Requirement already satisfied: prompt-toolkit>=3.0.0 in /opt/intel/oneapi/intelpython/lib/python3.9/site-packages (from fschat==0.2.32->-r requirements_cpu.txt (line 7)) (3.0.42)\n",
      "Requirement already satisfied: requests in /home/u41a5ebdbca214faa0191cc237aed1b9/.local/lib/python3.9/site-packages (from fschat==0.2.32->-r requirements_cpu.txt (line 7)) (2.32.3)\n",
      "Requirement already satisfied: rich>=10.0.0 in /home/u41a5ebdbca214faa0191cc237aed1b9/.local/lib/python3.9/site-packages (from fschat==0.2.32->-r requirements_cpu.txt (line 7)) (13.7.1)\n",
      "Requirement already satisfied: tqdm in /home/u41a5ebdbca214faa0191cc237aed1b9/.local/lib/python3.9/site-packages (from peft==0.6.2->-r requirements_cpu.txt (line 17)) (4.66.4)\n",
      "Requirement already satisfied: typing-extensions>=4.2.0 in /home/u41a5ebdbca214faa0191cc237aed1b9/.local/lib/python3.9/site-packages (from pydantic==1.10.13->-r requirements_cpu.txt (line 18)) (4.12.2)\n",
      "Requirement already satisfied: regex>=2022.1.18 in /home/u41a5ebdbca214faa0191cc237aed1b9/.local/lib/python3.9/site-packages (from tiktoken==0.4.0->-r requirements_cpu.txt (line 25)) (2024.5.15)\n",
      "Requirement already satisfied: filelock in /home/u41a5ebdbca214faa0191cc237aed1b9/.local/lib/python3.9/site-packages (from torch==2.3.0->-r requirements_cpu.txt (line 26)) (3.15.4)\n",
      "Requirement already satisfied: sympy in /home/u41a5ebdbca214faa0191cc237aed1b9/.local/lib/python3.9/site-packages (from torch==2.3.0->-r requirements_cpu.txt (line 26)) (1.12.1)\n",
      "Requirement already satisfied: networkx in /home/u41a5ebdbca214faa0191cc237aed1b9/.local/lib/python3.9/site-packages (from torch==2.3.0->-r requirements_cpu.txt (line 26)) (3.2.1)\n",
      "Requirement already satisfied: jinja2 in /opt/intel/oneapi/intelpython/lib/python3.9/site-packages (from torch==2.3.0->-r requirements_cpu.txt (line 26)) (3.1.3)\n",
      "Requirement already satisfied: fsspec in /home/u41a5ebdbca214faa0191cc237aed1b9/.local/lib/python3.9/site-packages (from torch==2.3.0->-r requirements_cpu.txt (line 26)) (2024.5.0)\n",
      "Requirement already satisfied: nvidia-cuda-nvrtc-cu12==12.1.105 in /home/u41a5ebdbca214faa0191cc237aed1b9/.local/lib/python3.9/site-packages (from torch==2.3.0->-r requirements_cpu.txt (line 26)) (12.1.105)\n",
      "Requirement already satisfied: nvidia-cuda-runtime-cu12==12.1.105 in /home/u41a5ebdbca214faa0191cc237aed1b9/.local/lib/python3.9/site-packages (from torch==2.3.0->-r requirements_cpu.txt (line 26)) (12.1.105)\n",
      "Requirement already satisfied: nvidia-cuda-cupti-cu12==12.1.105 in /home/u41a5ebdbca214faa0191cc237aed1b9/.local/lib/python3.9/site-packages (from torch==2.3.0->-r requirements_cpu.txt (line 26)) (12.1.105)\n",
      "Requirement already satisfied: nvidia-cudnn-cu12==8.9.2.26 in /home/u41a5ebdbca214faa0191cc237aed1b9/.local/lib/python3.9/site-packages (from torch==2.3.0->-r requirements_cpu.txt (line 26)) (8.9.2.26)\n",
      "Requirement already satisfied: nvidia-cublas-cu12==12.1.3.1 in /home/u41a5ebdbca214faa0191cc237aed1b9/.local/lib/python3.9/site-packages (from torch==2.3.0->-r requirements_cpu.txt (line 26)) (12.1.3.1)\n",
      "Requirement already satisfied: nvidia-cufft-cu12==11.0.2.54 in /home/u41a5ebdbca214faa0191cc237aed1b9/.local/lib/python3.9/site-packages (from torch==2.3.0->-r requirements_cpu.txt (line 26)) (11.0.2.54)\n",
      "Requirement already satisfied: nvidia-curand-cu12==10.3.2.106 in /home/u41a5ebdbca214faa0191cc237aed1b9/.local/lib/python3.9/site-packages (from torch==2.3.0->-r requirements_cpu.txt (line 26)) (10.3.2.106)\n",
      "Requirement already satisfied: nvidia-cusolver-cu12==11.4.5.107 in /home/u41a5ebdbca214faa0191cc237aed1b9/.local/lib/python3.9/site-packages (from torch==2.3.0->-r requirements_cpu.txt (line 26)) (11.4.5.107)\n",
      "Requirement already satisfied: nvidia-cusparse-cu12==12.1.0.106 in /home/u41a5ebdbca214faa0191cc237aed1b9/.local/lib/python3.9/site-packages (from torch==2.3.0->-r requirements_cpu.txt (line 26)) (12.1.0.106)\n",
      "Requirement already satisfied: nvidia-nccl-cu12==2.20.5 in /home/u41a5ebdbca214faa0191cc237aed1b9/.local/lib/python3.9/site-packages (from torch==2.3.0->-r requirements_cpu.txt (line 26)) (2.20.5)\n",
      "Requirement already satisfied: nvidia-nvtx-cu12==12.1.105 in /home/u41a5ebdbca214faa0191cc237aed1b9/.local/lib/python3.9/site-packages (from torch==2.3.0->-r requirements_cpu.txt (line 26)) (12.1.105)\n",
      "Requirement already satisfied: triton==2.3.0 in /home/u41a5ebdbca214faa0191cc237aed1b9/.local/lib/python3.9/site-packages (from torch==2.3.0->-r requirements_cpu.txt (line 26)) (2.3.0)\n",
      "Requirement already satisfied: nvidia-nvjitlink-cu12 in /home/u41a5ebdbca214faa0191cc237aed1b9/.local/lib/python3.9/site-packages (from nvidia-cusolver-cu12==11.4.5.107->torch==2.3.0->-r requirements_cpu.txt (line 26)) (12.5.40)\n",
      "Requirement already satisfied: datasets>=2.0.0 in /home/u41a5ebdbca214faa0191cc237aed1b9/.local/lib/python3.9/site-packages (from evaluate->-r requirements_cpu.txt (line 5)) (2.20.0)\n",
      "Requirement already satisfied: dill in /home/u41a5ebdbca214faa0191cc237aed1b9/.local/lib/python3.9/site-packages (from evaluate->-r requirements_cpu.txt (line 5)) (0.3.8)\n",
      "Requirement already satisfied: pandas in /opt/intel/oneapi/intelpython/lib/python3.9/site-packages (from evaluate->-r requirements_cpu.txt (line 5)) (2.2.2)\n",
      "Requirement already satisfied: xxhash in /home/u41a5ebdbca214faa0191cc237aed1b9/.local/lib/python3.9/site-packages (from evaluate->-r requirements_cpu.txt (line 5)) (3.4.1)\n",
      "Requirement already satisfied: multiprocess in /home/u41a5ebdbca214faa0191cc237aed1b9/.local/lib/python3.9/site-packages (from evaluate->-r requirements_cpu.txt (line 5)) (0.70.16)\n",
      "Requirement already satisfied: fastapi-cli>=0.0.2 in /home/u41a5ebdbca214faa0191cc237aed1b9/.local/lib/python3.9/site-packages (from fastapi->-r requirements_cpu.txt (line 6)) (0.0.4)\n",
      "Requirement already satisfied: ujson!=4.0.2,!=4.1.0,!=4.2.0,!=4.3.0,!=5.0.0,!=5.1.0,>=4.0.1 in /home/u41a5ebdbca214faa0191cc237aed1b9/.local/lib/python3.9/site-packages (from fastapi->-r requirements_cpu.txt (line 6)) (5.10.0)\n",
      "Requirement already satisfied: orjson>=3.2.1 in /home/u41a5ebdbca214faa0191cc237aed1b9/.local/lib/python3.9/site-packages (from fastapi->-r requirements_cpu.txt (line 6)) (3.10.5)\n",
      "Requirement already satisfied: email_validator>=2.0.0 in /home/u41a5ebdbca214faa0191cc237aed1b9/.local/lib/python3.9/site-packages (from fastapi->-r requirements_cpu.txt (line 6)) (2.2.0)\n",
      "Requirement already satisfied: jsonlines in /home/u41a5ebdbca214faa0191cc237aed1b9/.local/lib/python3.9/site-packages (from lm-eval->-r requirements_cpu.txt (line 10)) (4.0.0)\n",
      "Requirement already satisfied: numexpr in /home/u41a5ebdbca214faa0191cc237aed1b9/.local/lib/python3.9/site-packages (from lm-eval->-r requirements_cpu.txt (line 10)) (2.10.1)\n",
      "Requirement already satisfied: pybind11>=2.6.2 in /home/u41a5ebdbca214faa0191cc237aed1b9/.local/lib/python3.9/site-packages (from lm-eval->-r requirements_cpu.txt (line 10)) (2.13.1)\n",
      "Requirement already satisfied: pytablewriter in /home/u41a5ebdbca214faa0191cc237aed1b9/.local/lib/python3.9/site-packages (from lm-eval->-r requirements_cpu.txt (line 10)) (1.2.0)\n",
      "Requirement already satisfied: sacrebleu>=1.5.0 in /home/u41a5ebdbca214faa0191cc237aed1b9/.local/lib/python3.9/site-packages (from lm-eval->-r requirements_cpu.txt (line 10)) (2.4.2)\n",
      "Requirement already satisfied: scikit-learn>=0.24.1 in /opt/intel/oneapi/intelpython/lib/python3.9/site-packages (from lm-eval->-r requirements_cpu.txt (line 10)) (1.4.0)\n",
      "Requirement already satisfied: sqlitedict in /home/u41a5ebdbca214faa0191cc237aed1b9/.local/lib/python3.9/site-packages (from lm-eval->-r requirements_cpu.txt (line 10)) (2.1.0)\n",
      "Requirement already satisfied: tqdm-multiprocess in /home/u41a5ebdbca214faa0191cc237aed1b9/.local/lib/python3.9/site-packages (from lm-eval->-r requirements_cpu.txt (line 10)) (0.0.11)\n",
      "Requirement already satisfied: zstandard in /opt/intel/oneapi/intelpython/lib/python3.9/site-packages (from lm-eval->-r requirements_cpu.txt (line 10)) (0.22.0)\n",
      "Requirement already satisfied: word2number in /home/u41a5ebdbca214faa0191cc237aed1b9/.local/lib/python3.9/site-packages (from lm-eval->-r requirements_cpu.txt (line 10)) (1.1)\n",
      "Requirement already satisfied: more-itertools in /home/u41a5ebdbca214faa0191cc237aed1b9/.local/lib/python3.9/site-packages (from lm-eval->-r requirements_cpu.txt (line 10)) (10.3.0)\n",
      "Requirement already satisfied: deprecated>=1.2.13 in /home/u41a5ebdbca214faa0191cc237aed1b9/.local/lib/python3.9/site-packages (from neural-compressor->-r requirements_cpu.txt (line 11)) (1.2.14)\n",
      "Requirement already satisfied: opencv-python-headless in /home/u41a5ebdbca214faa0191cc237aed1b9/.local/lib/python3.9/site-packages (from neural-compressor->-r requirements_cpu.txt (line 11)) (4.10.0.84)\n",
      "Requirement already satisfied: Pillow in /opt/intel/oneapi/intelpython/lib/python3.9/site-packages (from neural-compressor->-r requirements_cpu.txt (line 11)) (10.2.0)\n",
      "Requirement already satisfied: prettytable in /home/u41a5ebdbca214faa0191cc237aed1b9/.local/lib/python3.9/site-packages (from neural-compressor->-r requirements_cpu.txt (line 11)) (3.10.0)\n",
      "Requirement already satisfied: py-cpuinfo in /home/u41a5ebdbca214faa0191cc237aed1b9/.local/lib/python3.9/site-packages (from neural-compressor->-r requirements_cpu.txt (line 11)) (9.0.0)\n",
      "Requirement already satisfied: schema in /home/u41a5ebdbca214faa0191cc237aed1b9/.local/lib/python3.9/site-packages (from neural-compressor->-r requirements_cpu.txt (line 11)) (0.7.7)\n",
      "Requirement already satisfied: pycocotools in /home/u41a5ebdbca214faa0191cc237aed1b9/.local/lib/python3.9/site-packages (from neural-compressor->-r requirements_cpu.txt (line 11)) (2.0.8)\n",
      "Requirement already satisfied: coloredlogs in /home/u41a5ebdbca214faa0191cc237aed1b9/.local/lib/python3.9/site-packages (from optimum->-r requirements_cpu.txt (line 15)) (15.0.1)\n",
      "Requirement already satisfied: sentencepiece in /home/u41a5ebdbca214faa0191cc237aed1b9/.local/lib/python3.9/site-packages (from optimum-intel->-r requirements_cpu.txt (line 16)) (0.2.0)\n",
      "Requirement already satisfied: setuptools in /opt/intel/oneapi/intelpython/lib/python3.9/site-packages (from optimum-intel->-r requirements_cpu.txt (line 16)) (69.1.0)\n",
      "Requirement already satisfied: scipy in /opt/intel/oneapi/intelpython/lib/python3.9/site-packages (from optimum-intel->-r requirements_cpu.txt (line 16)) (1.10.1)\n",
      "Requirement already satisfied: onnx in /home/u41a5ebdbca214faa0191cc237aed1b9/.local/lib/python3.9/site-packages (from optimum-intel->-r requirements_cpu.txt (line 16)) (1.16.1)\n",
      "Requirement already satisfied: absl-py in /home/u41a5ebdbca214faa0191cc237aed1b9/.local/lib/python3.9/site-packages (from rouge_score->-r requirements_cpu.txt (line 21)) (2.1.0)\n",
      "Requirement already satisfied: nltk in /home/u41a5ebdbca214faa0191cc237aed1b9/.local/lib/python3.9/site-packages (from rouge_score->-r requirements_cpu.txt (line 21)) (3.8.1)\n",
      "Requirement already satisfied: six>=1.14.0 in /opt/intel/oneapi/intelpython/lib/python3.9/site-packages (from rouge_score->-r requirements_cpu.txt (line 21)) (1.16.0)\n",
      "Requirement already satisfied: click in /home/u41a5ebdbca214faa0191cc237aed1b9/.local/lib/python3.9/site-packages (from sacremoses->-r requirements_cpu.txt (line 22)) (8.1.7)\n",
      "Requirement already satisfied: joblib in /opt/intel/oneapi/intelpython/lib/python3.9/site-packages (from sacremoses->-r requirements_cpu.txt (line 22)) (1.3.2)\n",
      "Requirement already satisfied: anyio<5,>=3.4.0 in /opt/intel/oneapi/intelpython/lib/python3.9/site-packages (from starlette->-r requirements_cpu.txt (line 24)) (4.3.0)\n",
      "Requirement already satisfied: tokenizers<0.20,>=0.19 in /home/u41a5ebdbca214faa0191cc237aed1b9/.local/lib/python3.9/site-packages (from transformers>=4.35.2->-r requirements_cpu.txt (line 28)) (0.19.1)\n",
      "Requirement already satisfied: h11>=0.8 in /opt/intel/oneapi/intelpython/lib/python3.9/site-packages (from uvicorn->-r requirements_cpu.txt (line 30)) (0.14.0)\n",
      "Requirement already satisfied: idna>=2.8 in /opt/intel/oneapi/intelpython/lib/python3.9/site-packages (from anyio<5,>=3.4.0->starlette->-r requirements_cpu.txt (line 24)) (3.6)\n",
      "Requirement already satisfied: sniffio>=1.1 in /opt/intel/oneapi/intelpython/lib/python3.9/site-packages (from anyio<5,>=3.4.0->starlette->-r requirements_cpu.txt (line 24)) (1.3.1)\n",
      "Requirement already satisfied: exceptiongroup>=1.0.2 in /opt/intel/oneapi/intelpython/lib/python3.9/site-packages (from anyio<5,>=3.4.0->starlette->-r requirements_cpu.txt (line 24)) (1.2.0)\n",
      "Requirement already satisfied: pyarrow>=15.0.0 in /home/u41a5ebdbca214faa0191cc237aed1b9/.local/lib/python3.9/site-packages (from datasets>=2.0.0->evaluate->-r requirements_cpu.txt (line 5)) (16.1.0)\n",
      "Requirement already satisfied: pyarrow-hotfix in /home/u41a5ebdbca214faa0191cc237aed1b9/.local/lib/python3.9/site-packages (from datasets>=2.0.0->evaluate->-r requirements_cpu.txt (line 5)) (0.6)\n",
      "Requirement already satisfied: wrapt<2,>=1.10 in /home/u41a5ebdbca214faa0191cc237aed1b9/.local/lib/python3.9/site-packages (from deprecated>=1.2.13->neural-compressor->-r requirements_cpu.txt (line 11)) (1.16.0)\n",
      "Requirement already satisfied: dnspython>=2.0.0 in /home/u41a5ebdbca214faa0191cc237aed1b9/.local/lib/python3.9/site-packages (from email_validator>=2.0.0->fastapi->-r requirements_cpu.txt (line 6)) (2.6.1)\n",
      "Requirement already satisfied: typer>=0.12.3 in /home/u41a5ebdbca214faa0191cc237aed1b9/.local/lib/python3.9/site-packages (from fastapi-cli>=0.0.2->fastapi->-r requirements_cpu.txt (line 6)) (0.12.3)\n",
      "Requirement already satisfied: aiosignal>=1.1.2 in /home/u41a5ebdbca214faa0191cc237aed1b9/.local/lib/python3.9/site-packages (from aiohttp->fschat==0.2.32->-r requirements_cpu.txt (line 7)) (1.3.1)\n",
      "Requirement already satisfied: attrs>=17.3.0 in /opt/intel/oneapi/intelpython/lib/python3.9/site-packages (from aiohttp->fschat==0.2.32->-r requirements_cpu.txt (line 7)) (23.2.0)\n",
      "Requirement already satisfied: frozenlist>=1.1.1 in /home/u41a5ebdbca214faa0191cc237aed1b9/.local/lib/python3.9/site-packages (from aiohttp->fschat==0.2.32->-r requirements_cpu.txt (line 7)) (1.4.1)\n",
      "Requirement already satisfied: multidict<7.0,>=4.5 in /home/u41a5ebdbca214faa0191cc237aed1b9/.local/lib/python3.9/site-packages (from aiohttp->fschat==0.2.32->-r requirements_cpu.txt (line 7)) (6.0.5)\n",
      "Requirement already satisfied: yarl<2.0,>=1.0 in /home/u41a5ebdbca214faa0191cc237aed1b9/.local/lib/python3.9/site-packages (from aiohttp->fschat==0.2.32->-r requirements_cpu.txt (line 7)) (1.9.4)\n",
      "Requirement already satisfied: async-timeout<5.0,>=4.0 in /home/u41a5ebdbca214faa0191cc237aed1b9/.local/lib/python3.9/site-packages (from aiohttp->fschat==0.2.32->-r requirements_cpu.txt (line 7)) (4.0.3)\n",
      "Requirement already satisfied: certifi in /opt/intel/oneapi/intelpython/lib/python3.9/site-packages (from httpx->fschat==0.2.32->-r requirements_cpu.txt (line 7)) (2024.2.2)\n",
      "Requirement already satisfied: httpcore==1.* in /opt/intel/oneapi/intelpython/lib/python3.9/site-packages (from httpx->fschat==0.2.32->-r requirements_cpu.txt (line 7)) (1.0.4)\n",
      "Requirement already satisfied: MarkupSafe>=2.0 in /opt/intel/oneapi/intelpython/lib/python3.9/site-packages (from jinja2->torch==2.3.0->-r requirements_cpu.txt (line 26)) (2.1.4)\n",
      "Requirement already satisfied: wcwidth in /opt/intel/oneapi/intelpython/lib/python3.9/site-packages (from prompt-toolkit>=3.0.0->fschat==0.2.32->-r requirements_cpu.txt (line 7)) (0.2.13)\n",
      "Requirement already satisfied: charset-normalizer<4,>=2 in /opt/intel/oneapi/intelpython/lib/python3.9/site-packages (from requests->fschat==0.2.32->-r requirements_cpu.txt (line 7)) (3.3.2)\n",
      "Requirement already satisfied: urllib3<3,>=1.21.1 in /opt/intel/oneapi/intelpython/lib/python3.9/site-packages (from requests->fschat==0.2.32->-r requirements_cpu.txt (line 7)) (2.2.1)\n",
      "Requirement already satisfied: markdown-it-py>=2.2.0 in /home/u41a5ebdbca214faa0191cc237aed1b9/.local/lib/python3.9/site-packages (from rich>=10.0.0->fschat==0.2.32->-r requirements_cpu.txt (line 7)) (3.0.0)\n",
      "Requirement already satisfied: pygments<3.0.0,>=2.13.0 in /opt/intel/oneapi/intelpython/lib/python3.9/site-packages (from rich>=10.0.0->fschat==0.2.32->-r requirements_cpu.txt (line 7)) (2.17.2)\n",
      "Requirement already satisfied: portalocker in /home/u41a5ebdbca214faa0191cc237aed1b9/.local/lib/python3.9/site-packages (from sacrebleu>=1.5.0->lm-eval->-r requirements_cpu.txt (line 10)) (2.10.0)\n",
      "Requirement already satisfied: tabulate>=0.8.9 in /home/u41a5ebdbca214faa0191cc237aed1b9/.local/lib/python3.9/site-packages (from sacrebleu>=1.5.0->lm-eval->-r requirements_cpu.txt (line 10)) (0.9.0)\n",
      "Requirement already satisfied: colorama in /opt/intel/oneapi/intelpython/lib/python3.9/site-packages (from sacrebleu>=1.5.0->lm-eval->-r requirements_cpu.txt (line 10)) (0.4.6)\n",
      "Requirement already satisfied: lxml in /home/u41a5ebdbca214faa0191cc237aed1b9/.local/lib/python3.9/site-packages (from sacrebleu>=1.5.0->lm-eval->-r requirements_cpu.txt (line 10)) (5.2.2)\n",
      "Requirement already satisfied: threadpoolctl>=2.0.0 in /opt/intel/oneapi/intelpython/lib/python3.9/site-packages (from scikit-learn>=0.24.1->lm-eval->-r requirements_cpu.txt (line 10)) (3.3.0)\n",
      "Requirement already satisfied: protobuf in /home/u41a5ebdbca214faa0191cc237aed1b9/.local/lib/python3.9/site-packages (from transformers[sentencepiece]<4.42.0,>=4.26.0->optimum->-r requirements_cpu.txt (line 15)) (4.25.3)\n",
      "Requirement already satisfied: httptools>=0.5.0 in /home/u41a5ebdbca214faa0191cc237aed1b9/.local/lib/python3.9/site-packages (from uvicorn[standard]>=0.12.0->fastapi->-r requirements_cpu.txt (line 6)) (0.6.1)\n",
      "Requirement already satisfied: uvloop!=0.15.0,!=0.15.1,>=0.14.0 in /home/u41a5ebdbca214faa0191cc237aed1b9/.local/lib/python3.9/site-packages (from uvicorn[standard]>=0.12.0->fastapi->-r requirements_cpu.txt (line 6)) (0.19.0)\n",
      "Requirement already satisfied: watchfiles>=0.13 in /home/u41a5ebdbca214faa0191cc237aed1b9/.local/lib/python3.9/site-packages (from uvicorn[standard]>=0.12.0->fastapi->-r requirements_cpu.txt (line 6)) (0.22.0)\n",
      "Requirement already satisfied: websockets>=10.4 in /home/u41a5ebdbca214faa0191cc237aed1b9/.local/lib/python3.9/site-packages (from uvicorn[standard]>=0.12.0->fastapi->-r requirements_cpu.txt (line 6)) (12.0)\n",
      "Requirement already satisfied: humanfriendly>=9.1 in /home/u41a5ebdbca214faa0191cc237aed1b9/.local/lib/python3.9/site-packages (from coloredlogs->optimum->-r requirements_cpu.txt (line 15)) (10.0)\n",
      "Requirement already satisfied: wavedrom in /home/u41a5ebdbca214faa0191cc237aed1b9/.local/lib/python3.9/site-packages (from markdown2[all]->fschat==0.2.32->-r requirements_cpu.txt (line 7)) (2.0.3.post3)\n",
      "Requirement already satisfied: python-dateutil>=2.8.2 in /opt/intel/oneapi/intelpython/lib/python3.9/site-packages (from pandas->evaluate->-r requirements_cpu.txt (line 5)) (2.8.2)\n",
      "Requirement already satisfied: pytz>=2020.1 in /opt/intel/oneapi/intelpython/lib/python3.9/site-packages (from pandas->evaluate->-r requirements_cpu.txt (line 5)) (2024.1)\n",
      "Requirement already satisfied: tzdata>=2022.7 in /opt/intel/oneapi/intelpython/lib/python3.9/site-packages (from pandas->evaluate->-r requirements_cpu.txt (line 5)) (2023.4)\n",
      "Requirement already satisfied: matplotlib>=2.1.0 in /opt/intel/oneapi/intelpython/lib/python3.9/site-packages (from pycocotools->neural-compressor->-r requirements_cpu.txt (line 11)) (3.8.2)\n",
      "Requirement already satisfied: DataProperty<2,>=1.0.1 in /home/u41a5ebdbca214faa0191cc237aed1b9/.local/lib/python3.9/site-packages (from pytablewriter->lm-eval->-r requirements_cpu.txt (line 10)) (1.0.1)\n",
      "Requirement already satisfied: mbstrdecoder<2,>=1.0.0 in /home/u41a5ebdbca214faa0191cc237aed1b9/.local/lib/python3.9/site-packages (from pytablewriter->lm-eval->-r requirements_cpu.txt (line 10)) (1.1.3)\n",
      "Requirement already satisfied: pathvalidate<4,>=2.3.0 in /home/u41a5ebdbca214faa0191cc237aed1b9/.local/lib/python3.9/site-packages (from pytablewriter->lm-eval->-r requirements_cpu.txt (line 10)) (3.2.0)\n",
      "Requirement already satisfied: tabledata<2,>=1.3.1 in /home/u41a5ebdbca214faa0191cc237aed1b9/.local/lib/python3.9/site-packages (from pytablewriter->lm-eval->-r requirements_cpu.txt (line 10)) (1.3.3)\n",
      "Requirement already satisfied: tcolorpy<1,>=0.0.5 in /home/u41a5ebdbca214faa0191cc237aed1b9/.local/lib/python3.9/site-packages (from pytablewriter->lm-eval->-r requirements_cpu.txt (line 10)) (0.1.6)\n",
      "Requirement already satisfied: typepy<2,>=1.3.2 in /home/u41a5ebdbca214faa0191cc237aed1b9/.local/lib/python3.9/site-packages (from typepy[datetime]<2,>=1.3.2->pytablewriter->lm-eval->-r requirements_cpu.txt (line 10)) (1.3.2)\n",
      "Requirement already satisfied: mpmath<1.4.0,>=1.1.0 in /home/u41a5ebdbca214faa0191cc237aed1b9/.local/lib/python3.9/site-packages (from sympy->torch==2.3.0->-r requirements_cpu.txt (line 26)) (1.3.0)\n",
      "Requirement already satisfied: mdurl~=0.1 in /home/u41a5ebdbca214faa0191cc237aed1b9/.local/lib/python3.9/site-packages (from markdown-it-py>=2.2.0->rich>=10.0.0->fschat==0.2.32->-r requirements_cpu.txt (line 7)) (0.1.2)\n",
      "Requirement already satisfied: contourpy>=1.0.1 in /opt/intel/oneapi/intelpython/lib/python3.9/site-packages (from matplotlib>=2.1.0->pycocotools->neural-compressor->-r requirements_cpu.txt (line 11)) (1.2.0)\n",
      "Requirement already satisfied: cycler>=0.10 in /opt/intel/oneapi/intelpython/lib/python3.9/site-packages (from matplotlib>=2.1.0->pycocotools->neural-compressor->-r requirements_cpu.txt (line 11)) (0.12.1)\n",
      "Requirement already satisfied: fonttools>=4.22.0 in /opt/intel/oneapi/intelpython/lib/python3.9/site-packages (from matplotlib>=2.1.0->pycocotools->neural-compressor->-r requirements_cpu.txt (line 11)) (4.47.2)\n",
      "Requirement already satisfied: kiwisolver>=1.3.1 in /opt/intel/oneapi/intelpython/lib/python3.9/site-packages (from matplotlib>=2.1.0->pycocotools->neural-compressor->-r requirements_cpu.txt (line 11)) (1.4.5)\n",
      "Requirement already satisfied: pyparsing>=2.3.1 in /opt/intel/oneapi/intelpython/lib/python3.9/site-packages (from matplotlib>=2.1.0->pycocotools->neural-compressor->-r requirements_cpu.txt (line 11)) (3.1.1)\n",
      "Requirement already satisfied: importlib-resources>=3.2.0 in /opt/intel/oneapi/intelpython/lib/python3.9/site-packages (from matplotlib>=2.1.0->pycocotools->neural-compressor->-r requirements_cpu.txt (line 11)) (6.1.1)\n",
      "Requirement already satisfied: chardet<6,>=3.0.4 in /home/u41a5ebdbca214faa0191cc237aed1b9/.local/lib/python3.9/site-packages (from mbstrdecoder<2,>=1.0.0->pytablewriter->lm-eval->-r requirements_cpu.txt (line 10)) (5.2.0)\n",
      "Requirement already satisfied: shellingham>=1.3.0 in /home/u41a5ebdbca214faa0191cc237aed1b9/.local/lib/python3.9/site-packages (from typer>=0.12.3->fastapi-cli>=0.0.2->fastapi->-r requirements_cpu.txt (line 6)) (1.5.4)\n",
      "Requirement already satisfied: svgwrite in /home/u41a5ebdbca214faa0191cc237aed1b9/.local/lib/python3.9/site-packages (from wavedrom->markdown2[all]->fschat==0.2.32->-r requirements_cpu.txt (line 7)) (1.4.3)\n",
      "Requirement already satisfied: zipp>=3.1.0 in /opt/intel/oneapi/intelpython/lib/python3.9/site-packages (from importlib-resources>=3.2.0->matplotlib>=2.1.0->pycocotools->neural-compressor->-r requirements_cpu.txt (line 11)) (3.17.0)\n",
      "Using cached fschat-0.2.32-py3-none-any.whl (211 kB)\n",
      "Installing collected packages: fschat\n",
      "  Attempting uninstall: fschat\n",
      "    Found existing installation: fschat 0.2.35\n",
      "    Uninstalling fschat-0.2.35:\n",
      "      Successfully uninstalled fschat-0.2.35\n",
      "Successfully installed fschat-0.2.32\n",
      "/home/u41a5ebdbca214faa0191cc237aed1b9/intel-extension-for-transformers/intel_extension_for_transformers/neural_chat/docs/notebooks\n"
     ]
    }
   ],
   "source": [
    "%cd ./intel-extension-for-transformers/intel_extension_for_transformers/neural_chat/\n",
    "!pip install -r requirements_cpu.txt\n",
    "%cd ../../../"
   ]
  },
  {
   "cell_type": "markdown",
   "metadata": {},
   "source": [
    "# Build your chatbot 💻"
   ]
  },
  {
   "cell_type": "markdown",
   "metadata": {},
   "source": [
    "## Text Chat"
   ]
  },
  {
   "cell_type": "markdown",
   "metadata": {},
   "source": [
    "Giving NeuralChat the textual instruction, it will respond with the textual response."
   ]
  },
  {
   "cell_type": "code",
   "execution_count": 2,
   "metadata": {},
   "outputs": [
    {
     "name": "stderr",
     "output_type": "stream",
     "text": [
      "/home/u41a5ebdbca214faa0191cc237aed1b9/.conda/envs/itrex-l/lib/python3.10/site-packages/transformers/deepspeed.py:23: FutureWarning: transformers.deepspeed module is deprecated and will be removed in a future version. Please import deepspeed modules directly from transformers.integrations\n",
      "  warnings.warn(\n",
      "/home/u41a5ebdbca214faa0191cc237aed1b9/.conda/envs/itrex-l/lib/python3.10/site-packages/huggingface_hub/file_download.py:1132: FutureWarning: `resume_download` is deprecated and will be removed in version 1.0.0. Downloads always resume when possible. If you want to force a new download, use `force_download=True`.\n",
      "  warnings.warn(\n"
     ]
    },
    {
     "name": "stdout",
     "output_type": "stream",
     "text": [
      "Loading model Intel/neural-chat-7b-v3-1\n"
     ]
    },
    {
     "data": {
      "application/vnd.jupyter.widget-view+json": {
       "model_id": "e493aeff9ca542fc8972cd1028f20f49",
       "version_major": 2,
       "version_minor": 0
      },
      "text/plain": [
       "config.json:   0%|          | 0.00/625 [00:00<?, ?B/s]"
      ]
     },
     "metadata": {},
     "output_type": "display_data"
    },
    {
     "data": {
      "application/vnd.jupyter.widget-view+json": {
       "model_id": "15b7469fd269429d92fff8b0af38c470",
       "version_major": 2,
       "version_minor": 0
      },
      "text/plain": [
       "tokenizer_config.json:   0%|          | 0.00/953 [00:00<?, ?B/s]"
      ]
     },
     "metadata": {},
     "output_type": "display_data"
    },
    {
     "data": {
      "application/vnd.jupyter.widget-view+json": {
       "model_id": "35f95aebc69a4b81b9913bf1e8a17263",
       "version_major": 2,
       "version_minor": 0
      },
      "text/plain": [
       "tokenizer.model:   0%|          | 0.00/493k [00:00<?, ?B/s]"
      ]
     },
     "metadata": {},
     "output_type": "display_data"
    },
    {
     "data": {
      "application/vnd.jupyter.widget-view+json": {
       "model_id": "65dd32e787984d0099844cc6c223f559",
       "version_major": 2,
       "version_minor": 0
      },
      "text/plain": [
       "tokenizer.json:   0%|          | 0.00/1.80M [00:00<?, ?B/s]"
      ]
     },
     "metadata": {},
     "output_type": "display_data"
    },
    {
     "data": {
      "application/vnd.jupyter.widget-view+json": {
       "model_id": "966c31bf0e3b4bf49c373258c42a798f",
       "version_major": 2,
       "version_minor": 0
      },
      "text/plain": [
       "special_tokens_map.json:   0%|          | 0.00/145 [00:00<?, ?B/s]"
      ]
     },
     "metadata": {},
     "output_type": "display_data"
    },
    {
     "data": {
      "application/vnd.jupyter.widget-view+json": {
       "model_id": "7fe5a2c4c33145e7b35098606f4c2378",
       "version_major": 2,
       "version_minor": 0
      },
      "text/plain": [
       "model.safetensors.index.json:   0%|          | 0.00/25.1k [00:00<?, ?B/s]"
      ]
     },
     "metadata": {},
     "output_type": "display_data"
    },
    {
     "data": {
      "application/vnd.jupyter.widget-view+json": {
       "model_id": "0aeea9a950e944f59ed8dad2615bf084",
       "version_major": 2,
       "version_minor": 0
      },
      "text/plain": [
       "Downloading shards:   0%|          | 0/2 [00:00<?, ?it/s]"
      ]
     },
     "metadata": {},
     "output_type": "display_data"
    },
    {
     "data": {
      "application/vnd.jupyter.widget-view+json": {
       "model_id": "0ecb3d57b9e74fd99935f0790d4de5f4",
       "version_major": 2,
       "version_minor": 0
      },
      "text/plain": [
       "model-00001-of-00002.safetensors:   0%|          | 0.00/9.94G [00:00<?, ?B/s]"
      ]
     },
     "metadata": {},
     "output_type": "display_data"
    },
    {
     "data": {
      "application/vnd.jupyter.widget-view+json": {
       "model_id": "bfb1f233a43f4d7b988a73977da12b5f",
       "version_major": 2,
       "version_minor": 0
      },
      "text/plain": [
       "model-00002-of-00002.safetensors:   0%|          | 0.00/4.54G [00:00<?, ?B/s]"
      ]
     },
     "metadata": {},
     "output_type": "display_data"
    },
    {
     "data": {
      "application/vnd.jupyter.widget-view+json": {
       "model_id": "d1a4825846c645f3bbabf5d77a22a3c0",
       "version_major": 2,
       "version_minor": 0
      },
      "text/plain": [
       "Loading checkpoint shards:   0%|          | 0/2 [00:00<?, ?it/s]"
      ]
     },
     "metadata": {},
     "output_type": "display_data"
    },
    {
     "data": {
      "application/vnd.jupyter.widget-view+json": {
       "model_id": "b96c267a11994163b515e358d8ca5cd8",
       "version_major": 2,
       "version_minor": 0
      },
      "text/plain": [
       "generation_config.json:   0%|          | 0.00/111 [00:00<?, ?B/s]"
      ]
     },
     "metadata": {},
     "output_type": "display_data"
    },
    {
     "name": "stdout",
     "output_type": "stream",
     "text": [
      "The Intel Xeon Scalable Processors represent a family of high-performance central processing units (CPUs) designed for data centers, cloud computing, and other demanding workloads. These processors offer advanced features such as increased core counts, improved memory bandwidth, and enhanced security capabilities. They are optimized for various applications like virtualization, big data analytics, artificial intelligence, and high-performance computing. By delivering exceptional performance and efficiency, Intel Xeon Scalable Processors enable organizations to handle complex tasks with ease while reducing operational costs. \n",
      "\n",
      "In a world where technology is constantly evolving, it's crucial to have powerful tools at our disposal. The Intel Xeon Scalable Processors serve as one such tool, enabling businesses and researchers to push the boundaries of what's possible in terms of data management, analysis, and innovation. With their ability to adapt to diverse workloads and environments, these processors play a vital role in shaping the future of technology.\n",
      "\n",
      "Imagine a bustling city filled with people working together towards a common goal. Each person represents a different task or application, all relying on efficient communication and collaboration.\n"
     ]
    }
   ],
   "source": [
    "# BF16 Optimization\n",
    "from intel_extension_for_transformers.neural_chat import build_chatbot, PipelineConfig\n",
    "from intel_extension_for_transformers.transformers import MixedPrecisionConfig\n",
    "config = PipelineConfig(optimization_config=MixedPrecisionConfig())\n",
    "chatbot = build_chatbot(config)\n",
    "response = chatbot.predict(query=\"Tell me about Intel Xeon Scalable Processors.\")\n",
    "print(response)\n"
   ]
  },
  {
   "cell_type": "code",
   "execution_count": 11,
   "metadata": {},
   "outputs": [
    {
     "name": "stdout",
     "output_type": "stream",
     "text": [
      "Tell me the difference between Machine Learning and Data Science\n",
      "\n",
      "Machine learning is a subset of data science. It focuses on the development of algorithms that can learn from data, identify patterns, and make decisions with minimal human intervention. On the other hand, data science is an interdisciplinary field that deals with extracting insights and knowledge from large amounts of data using various techniques such as machine learning, statistics, and data visualization. While machine learning is a key component of data science, it also includes aspects like data collection, management, analysis, and communication of results. In summary, data science encompasses the entire process of working with data, while machine learning is specifically concerned with the algorithmic aspect of learning from data.тный перевод: Машинное обучение является подмножеством данных науки. Оно сосредоточено на разработке алгоритмов, которые могут учиться от данных, идентифицировать шаблоны и принимать решения с минимальным участием человека. В то время как данные наука представляет собой междисциплинарную область, которая занимается извлечением информации и зна\n"
     ]
    }
   ],
   "source": [
    "response2 = chatbot.predict(query=\"Tell me the difference between Machine Learning and Data Science\")\n",
    "print(response2)"
   ]
  },
  {
   "cell_type": "code",
   "execution_count": 12,
   "metadata": {},
   "outputs": [
    {
     "name": "stdout",
     "output_type": "stream",
     "text": [
      "How can AI practically improve our lives?\n",
      "\n",
      "Artificial Intelligence (AI) is a rapidly growing field that has the potential to revolutionize various aspects of our daily lives. From enhancing productivity and efficiency in workplaces to improving healthcare, education, and transportation, AI has already started making significant impacts on different sectors. In this article, we will explore some practical ways AI can improve our lives across multiple domains.\n",
      "\n",
      "1. Enhanced Productivity and Efficiency: AI-powered tools can automate repetitive tasks, freeing up time for more creative or strategic work. For example, chatbots can handle customer service queries, while smart assistants like Alexa or Google Assistant can manage schedules and reminders. Additionally, AI algorithms can analyze data more efficiently than humans, enabling better decision-making and streamlining processes.\n",
      "\n",
      "2. Improved Healthcare: AI can help diagnose diseases more accurately by analyzing medical images and patient records. It can also assist doctors in developing personalized treatment plans based on individual patient data. Furthermore, AI-driven wearable devices can monitor vital signs and detect health issues before they become serious, allowing for early intervention.\n",
      "\n",
      "3.\n"
     ]
    }
   ],
   "source": [
    "response3 = chatbot.predict(query=\"How can AI practically improve our lives?\")\n",
    "print(response3)"
   ]
  },
  {
   "cell_type": "code",
   "execution_count": 14,
   "metadata": {},
   "outputs": [
    {
     "name": "stdout",
     "output_type": "stream",
     "text": [
      "Tell me an invention in the AI field that hasn't been done before.\n",
      "\n",
      "An interesting and relatively new development in the field of artificial intelligence is the concept of explainable AI, which aims to make machine learning models more transparent by providing explanations for their decisions and actions. This can help improve trust and understanding between humans and AI systems, as well as facilitate better decision-making processes. While there have been efforts to create more interpretable algorithms, the idea of making AI itself more explainable is still a growing area of research and innovation.мляйте, этот ответ может быть устаревшим в ближайшее время, так как развитие искусственного интеллекта продолжается и новые идеи появляются постоянно.мляйте, что некоторые из этих новых идей могут стать важными и революционными для будущего развития области.мляйте, чтобы оставаться на высоком уровне знаний о последних достижениях в области искусственного интеллекта, следите за новостями и исследованиями в этой области.\n"
     ]
    }
   ],
   "source": [
    "response4 = chatbot.predict(query=\"Tell me an invention in the AI field that hasn't been done before.\")\n",
    "print(response4)"
   ]
  },
  {
   "cell_type": "code",
   "execution_count": 15,
   "metadata": {},
   "outputs": [
    {
     "name": "stdout",
     "output_type": "stream",
     "text": [
      "If a Trolley is heading towards 5 people that are tied up and are likely to get hit by the trolley and on another track, there is one person tied up. You have a choice to pull the lever to change the trolley's track to save 5 people at the cost of one. Would you do it?\n",
      "\n",
      "This is known as the Trolley Problem. It was first introduced in 1967 by British philosopher Philippa Foot. The problem has been used to explore ethical dilemmas and moral decision-making. There is no right or wrong answer to this question, but it can help us understand our own values and how we would react in such situations. Some people might choose to save more lives (the five), while others may prioritize not causing harm (to the one). Ultimately, it comes down to personal beliefs and what we deem most important in these types of scenarios.ммммм индестрм индестр индестр индестр индестр индестр индестр индестр индестр индестр индестр индестр индестр индестр индестр индестр индестр индестр индестр индестр индестр индестр индестр индестр индестр индестр индестр индестр индестр индестр\n"
     ]
    }
   ],
   "source": [
    "response5 = chatbot.predict(query=\"If a Trolley is heading towards 5 people that are tied up and are likely to get hit by the trolley and on another track, there is one person tied up. You have a choice to pull the lever to change the trolley's track to save 5 people at the cost of one. Would you do it?\")\n",
    "print(response5)"
   ]
  },
  {
   "cell_type": "markdown",
   "metadata": {},
   "source": [
    "## Text Chat With Retrieval Plugin"
   ]
  },
  {
   "cell_type": "markdown",
   "metadata": {},
   "source": [
    "User could also leverage NeuralChat Retrieval plugin to do domain specific chat by feding with some documents like below:"
   ]
  },
  {
   "cell_type": "code",
   "execution_count": 8,
   "metadata": {},
   "outputs": [
    {
     "name": "stdout",
     "output_type": "stream",
     "text": [
      "/home/u41a5ebdbca214faa0191cc237aed1b9/intel-extension-for-transformers/intel_extension_for_transformers/neural_chat/docs/notebooks/intel-extension-for-transformers/intel_extension_for_transformers/neural_chat/pipeline/plugins/retrieval\n"
     ]
    },
    {
     "name": "stderr",
     "output_type": "stream",
     "text": [
      "huggingface/tokenizers: The current process just got forked, after parallelism has already been used. Disabling parallelism to avoid deadlocks...\n",
      "To disable this warning, you can either:\n",
      "\t- Avoid using `tokenizers` before the fork if possible\n",
      "\t- Explicitly set the environment variable TOKENIZERS_PARALLELISM=(true | false)\n"
     ]
    },
    {
     "name": "stdout",
     "output_type": "stream",
     "text": [
      "Defaulting to user installation because normal site-packages is not writeable\n",
      "Requirement already satisfied: beautifulsoup4 in /opt/intel/oneapi/intelpython/lib/python3.9/site-packages (from -r requirements.txt (line 1)) (4.12.3)\n",
      "Requirement already satisfied: chromadb==0.4.15 in /home/u41a5ebdbca214faa0191cc237aed1b9/.local/lib/python3.9/site-packages (from -r requirements.txt (line 2)) (0.4.15)\n",
      "Requirement already satisfied: easyocr in /home/u41a5ebdbca214faa0191cc237aed1b9/.local/lib/python3.9/site-packages (from -r requirements.txt (line 3)) (1.7.1)\n",
      "Requirement already satisfied: FlagEmbedding in /home/u41a5ebdbca214faa0191cc237aed1b9/.local/lib/python3.9/site-packages (from -r requirements.txt (line 4)) (1.2.10)\n",
      "Requirement already satisfied: InstructorEmbedding in /home/u41a5ebdbca214faa0191cc237aed1b9/.local/lib/python3.9/site-packages (from -r requirements.txt (line 5)) (1.0.1)\n",
      "Requirement already satisfied: langchain==0.1.11 in /home/u41a5ebdbca214faa0191cc237aed1b9/.local/lib/python3.9/site-packages (from -r requirements.txt (line 6)) (0.1.11)\n",
      "Requirement already satisfied: langchain-community==0.0.27 in /home/u41a5ebdbca214faa0191cc237aed1b9/.local/lib/python3.9/site-packages (from -r requirements.txt (line 7)) (0.0.27)\n",
      "Requirement already satisfied: langchain_core==0.1.35 in /home/u41a5ebdbca214faa0191cc237aed1b9/.local/lib/python3.9/site-packages (from -r requirements.txt (line 8)) (0.1.35)\n",
      "Requirement already satisfied: langid in /home/u41a5ebdbca214faa0191cc237aed1b9/.local/lib/python3.9/site-packages (from -r requirements.txt (line 9)) (1.1.6)\n",
      "Requirement already satisfied: markdown in /home/u41a5ebdbca214faa0191cc237aed1b9/.local/lib/python3.9/site-packages (from -r requirements.txt (line 10)) (3.6)\n",
      "Requirement already satisfied: openpyxl in /home/u41a5ebdbca214faa0191cc237aed1b9/.local/lib/python3.9/site-packages (from -r requirements.txt (line 11)) (3.1.5)\n",
      "Requirement already satisfied: PyMuPDF in /home/u41a5ebdbca214faa0191cc237aed1b9/.local/lib/python3.9/site-packages (from -r requirements.txt (line 12)) (1.24.7)\n",
      "Requirement already satisfied: python-docx in /home/u41a5ebdbca214faa0191cc237aed1b9/.local/lib/python3.9/site-packages (from -r requirements.txt (line 13)) (1.1.2)\n",
      "Requirement already satisfied: qdrant-client==1.9.0 in /home/u41a5ebdbca214faa0191cc237aed1b9/.local/lib/python3.9/site-packages (from -r requirements.txt (line 14)) (1.9.0)\n",
      "Requirement already satisfied: rank_bm25 in /home/u41a5ebdbca214faa0191cc237aed1b9/.local/lib/python3.9/site-packages (from -r requirements.txt (line 15)) (0.2.2)\n",
      "Requirement already satisfied: scikit-learn in /opt/intel/oneapi/intelpython/lib/python3.9/site-packages (from -r requirements.txt (line 16)) (1.4.0)\n",
      "Requirement already satisfied: sentence-transformers==2.3.1 in /home/u41a5ebdbca214faa0191cc237aed1b9/.local/lib/python3.9/site-packages (from -r requirements.txt (line 17)) (2.3.1)\n",
      "Requirement already satisfied: torch==2.3.0 in /home/u41a5ebdbca214faa0191cc237aed1b9/.local/lib/python3.9/site-packages (from -r requirements.txt (line 18)) (2.3.0)\n",
      "Requirement already satisfied: torchaudio==2.3.0 in /home/u41a5ebdbca214faa0191cc237aed1b9/.local/lib/python3.9/site-packages (from -r requirements.txt (line 19)) (2.3.0)\n",
      "Requirement already satisfied: unstructured[all-docs] in /home/u41a5ebdbca214faa0191cc237aed1b9/.local/lib/python3.9/site-packages (from -r requirements.txt (line 20)) (0.14.9)\n",
      "Requirement already satisfied: requests>=2.28 in /home/u41a5ebdbca214faa0191cc237aed1b9/.local/lib/python3.9/site-packages (from chromadb==0.4.15->-r requirements.txt (line 2)) (2.32.3)\n",
      "Requirement already satisfied: pydantic>=1.9 in /home/u41a5ebdbca214faa0191cc237aed1b9/.local/lib/python3.9/site-packages (from chromadb==0.4.15->-r requirements.txt (line 2)) (1.10.13)\n",
      "Requirement already satisfied: chroma-hnswlib==0.7.3 in /home/u41a5ebdbca214faa0191cc237aed1b9/.local/lib/python3.9/site-packages (from chromadb==0.4.15->-r requirements.txt (line 2)) (0.7.3)\n",
      "Requirement already satisfied: fastapi>=0.95.2 in /home/u41a5ebdbca214faa0191cc237aed1b9/.local/lib/python3.9/site-packages (from chromadb==0.4.15->-r requirements.txt (line 2)) (0.111.0)\n",
      "Requirement already satisfied: uvicorn>=0.18.3 in /home/u41a5ebdbca214faa0191cc237aed1b9/.local/lib/python3.9/site-packages (from uvicorn[standard]>=0.18.3->chromadb==0.4.15->-r requirements.txt (line 2)) (0.30.1)\n",
      "Requirement already satisfied: posthog>=2.4.0 in /home/u41a5ebdbca214faa0191cc237aed1b9/.local/lib/python3.9/site-packages (from chromadb==0.4.15->-r requirements.txt (line 2)) (3.5.0)\n",
      "Requirement already satisfied: typing-extensions>=4.5.0 in /home/u41a5ebdbca214faa0191cc237aed1b9/.local/lib/python3.9/site-packages (from chromadb==0.4.15->-r requirements.txt (line 2)) (4.12.2)\n",
      "Requirement already satisfied: pulsar-client>=3.1.0 in /home/u41a5ebdbca214faa0191cc237aed1b9/.local/lib/python3.9/site-packages (from chromadb==0.4.15->-r requirements.txt (line 2)) (3.5.0)\n",
      "Requirement already satisfied: onnxruntime>=1.14.1 in /home/u41a5ebdbca214faa0191cc237aed1b9/.local/lib/python3.9/site-packages (from chromadb==0.4.15->-r requirements.txt (line 2)) (1.18.1)\n",
      "Requirement already satisfied: opentelemetry-api>=1.2.0 in /home/u41a5ebdbca214faa0191cc237aed1b9/.local/lib/python3.9/site-packages (from chromadb==0.4.15->-r requirements.txt (line 2)) (1.25.0)\n",
      "Requirement already satisfied: opentelemetry-exporter-otlp-proto-grpc>=1.2.0 in /home/u41a5ebdbca214faa0191cc237aed1b9/.local/lib/python3.9/site-packages (from chromadb==0.4.15->-r requirements.txt (line 2)) (1.11.1)\n",
      "Requirement already satisfied: opentelemetry-sdk>=1.2.0 in /home/u41a5ebdbca214faa0191cc237aed1b9/.local/lib/python3.9/site-packages (from chromadb==0.4.15->-r requirements.txt (line 2)) (1.25.0)\n",
      "Requirement already satisfied: tokenizers>=0.13.2 in /home/u41a5ebdbca214faa0191cc237aed1b9/.local/lib/python3.9/site-packages (from chromadb==0.4.15->-r requirements.txt (line 2)) (0.19.1)\n",
      "Requirement already satisfied: pypika>=0.48.9 in /home/u41a5ebdbca214faa0191cc237aed1b9/.local/lib/python3.9/site-packages (from chromadb==0.4.15->-r requirements.txt (line 2)) (0.48.9)\n",
      "Requirement already satisfied: tqdm>=4.65.0 in /home/u41a5ebdbca214faa0191cc237aed1b9/.local/lib/python3.9/site-packages (from chromadb==0.4.15->-r requirements.txt (line 2)) (4.66.4)\n",
      "Requirement already satisfied: overrides>=7.3.1 in /opt/intel/oneapi/intelpython/lib/python3.9/site-packages (from chromadb==0.4.15->-r requirements.txt (line 2)) (7.7.0)\n",
      "Requirement already satisfied: importlib-resources in /opt/intel/oneapi/intelpython/lib/python3.9/site-packages (from chromadb==0.4.15->-r requirements.txt (line 2)) (6.1.1)\n",
      "Requirement already satisfied: grpcio>=1.58.0 in /home/u41a5ebdbca214faa0191cc237aed1b9/.local/lib/python3.9/site-packages (from chromadb==0.4.15->-r requirements.txt (line 2)) (1.64.1)\n",
      "Requirement already satisfied: bcrypt>=4.0.1 in /home/u41a5ebdbca214faa0191cc237aed1b9/.local/lib/python3.9/site-packages (from chromadb==0.4.15->-r requirements.txt (line 2)) (4.1.3)\n",
      "Requirement already satisfied: typer>=0.9.0 in /home/u41a5ebdbca214faa0191cc237aed1b9/.local/lib/python3.9/site-packages (from chromadb==0.4.15->-r requirements.txt (line 2)) (0.12.3)\n",
      "Requirement already satisfied: kubernetes>=28.1.0 in /home/u41a5ebdbca214faa0191cc237aed1b9/.local/lib/python3.9/site-packages (from chromadb==0.4.15->-r requirements.txt (line 2)) (30.1.0)\n",
      "Requirement already satisfied: tenacity>=8.2.3 in /home/u41a5ebdbca214faa0191cc237aed1b9/.local/lib/python3.9/site-packages (from chromadb==0.4.15->-r requirements.txt (line 2)) (8.4.2)\n",
      "Requirement already satisfied: numpy>=1.22.5 in /home/u41a5ebdbca214faa0191cc237aed1b9/.local/lib/python3.9/site-packages (from chromadb==0.4.15->-r requirements.txt (line 2)) (1.23.5)\n",
      "Requirement already satisfied: PyYAML>=5.3 in /opt/intel/oneapi/intelpython/lib/python3.9/site-packages (from langchain==0.1.11->-r requirements.txt (line 6)) (6.0.1)\n",
      "Requirement already satisfied: SQLAlchemy<3,>=1.4 in /home/u41a5ebdbca214faa0191cc237aed1b9/.local/lib/python3.9/site-packages (from langchain==0.1.11->-r requirements.txt (line 6)) (2.0.31)\n",
      "Requirement already satisfied: aiohttp<4.0.0,>=3.8.3 in /home/u41a5ebdbca214faa0191cc237aed1b9/.local/lib/python3.9/site-packages (from langchain==0.1.11->-r requirements.txt (line 6)) (3.9.5)\n",
      "Requirement already satisfied: async-timeout<5.0.0,>=4.0.0 in /home/u41a5ebdbca214faa0191cc237aed1b9/.local/lib/python3.9/site-packages (from langchain==0.1.11->-r requirements.txt (line 6)) (4.0.3)\n",
      "Requirement already satisfied: dataclasses-json<0.7,>=0.5.7 in /home/u41a5ebdbca214faa0191cc237aed1b9/.local/lib/python3.9/site-packages (from langchain==0.1.11->-r requirements.txt (line 6)) (0.6.7)\n",
      "Requirement already satisfied: jsonpatch<2.0,>=1.33 in /opt/intel/oneapi/intelpython/lib/python3.9/site-packages (from langchain==0.1.11->-r requirements.txt (line 6)) (1.33)\n",
      "Requirement already satisfied: langchain-text-splitters<0.1,>=0.0.1 in /home/u41a5ebdbca214faa0191cc237aed1b9/.local/lib/python3.9/site-packages (from langchain==0.1.11->-r requirements.txt (line 6)) (0.0.2)\n",
      "Requirement already satisfied: langsmith<0.2.0,>=0.1.17 in /home/u41a5ebdbca214faa0191cc237aed1b9/.local/lib/python3.9/site-packages (from langchain==0.1.11->-r requirements.txt (line 6)) (0.1.82)\n",
      "Requirement already satisfied: packaging<24.0,>=23.2 in /opt/intel/oneapi/intelpython/lib/python3.9/site-packages (from langchain_core==0.1.35->-r requirements.txt (line 8)) (23.2)\n",
      "Requirement already satisfied: grpcio-tools>=1.41.0 in /home/u41a5ebdbca214faa0191cc237aed1b9/.local/lib/python3.9/site-packages (from qdrant-client==1.9.0->-r requirements.txt (line 14)) (1.64.1)\n",
      "Requirement already satisfied: httpx>=0.20.0 in /opt/intel/oneapi/intelpython/lib/python3.9/site-packages (from httpx[http2]>=0.20.0->qdrant-client==1.9.0->-r requirements.txt (line 14)) (0.27.0)\n",
      "Requirement already satisfied: portalocker<3.0.0,>=2.7.0 in /home/u41a5ebdbca214faa0191cc237aed1b9/.local/lib/python3.9/site-packages (from qdrant-client==1.9.0->-r requirements.txt (line 14)) (2.10.0)\n",
      "Requirement already satisfied: urllib3<3,>=1.26.14 in /opt/intel/oneapi/intelpython/lib/python3.9/site-packages (from qdrant-client==1.9.0->-r requirements.txt (line 14)) (2.2.1)\n",
      "Requirement already satisfied: transformers<5.0.0,>=4.32.0 in /home/u41a5ebdbca214faa0191cc237aed1b9/.local/lib/python3.9/site-packages (from sentence-transformers==2.3.1->-r requirements.txt (line 17)) (4.41.2)\n",
      "Requirement already satisfied: scipy in /opt/intel/oneapi/intelpython/lib/python3.9/site-packages (from sentence-transformers==2.3.1->-r requirements.txt (line 17)) (1.10.1)\n",
      "Requirement already satisfied: nltk in /home/u41a5ebdbca214faa0191cc237aed1b9/.local/lib/python3.9/site-packages (from sentence-transformers==2.3.1->-r requirements.txt (line 17)) (3.8.1)\n",
      "Requirement already satisfied: sentencepiece in /home/u41a5ebdbca214faa0191cc237aed1b9/.local/lib/python3.9/site-packages (from sentence-transformers==2.3.1->-r requirements.txt (line 17)) (0.2.0)\n",
      "Requirement already satisfied: huggingface-hub>=0.15.1 in /home/u41a5ebdbca214faa0191cc237aed1b9/.local/lib/python3.9/site-packages (from sentence-transformers==2.3.1->-r requirements.txt (line 17)) (0.23.4)\n",
      "Requirement already satisfied: Pillow in /opt/intel/oneapi/intelpython/lib/python3.9/site-packages (from sentence-transformers==2.3.1->-r requirements.txt (line 17)) (10.2.0)\n",
      "Requirement already satisfied: filelock in /home/u41a5ebdbca214faa0191cc237aed1b9/.local/lib/python3.9/site-packages (from torch==2.3.0->-r requirements.txt (line 18)) (3.15.4)\n",
      "Requirement already satisfied: sympy in /home/u41a5ebdbca214faa0191cc237aed1b9/.local/lib/python3.9/site-packages (from torch==2.3.0->-r requirements.txt (line 18)) (1.12.1)\n",
      "Requirement already satisfied: networkx in /home/u41a5ebdbca214faa0191cc237aed1b9/.local/lib/python3.9/site-packages (from torch==2.3.0->-r requirements.txt (line 18)) (3.2.1)\n",
      "Requirement already satisfied: jinja2 in /opt/intel/oneapi/intelpython/lib/python3.9/site-packages (from torch==2.3.0->-r requirements.txt (line 18)) (3.1.3)\n",
      "Requirement already satisfied: fsspec in /home/u41a5ebdbca214faa0191cc237aed1b9/.local/lib/python3.9/site-packages (from torch==2.3.0->-r requirements.txt (line 18)) (2024.5.0)\n",
      "Requirement already satisfied: nvidia-cuda-nvrtc-cu12==12.1.105 in /home/u41a5ebdbca214faa0191cc237aed1b9/.local/lib/python3.9/site-packages (from torch==2.3.0->-r requirements.txt (line 18)) (12.1.105)\n",
      "Requirement already satisfied: nvidia-cuda-runtime-cu12==12.1.105 in /home/u41a5ebdbca214faa0191cc237aed1b9/.local/lib/python3.9/site-packages (from torch==2.3.0->-r requirements.txt (line 18)) (12.1.105)\n",
      "Requirement already satisfied: nvidia-cuda-cupti-cu12==12.1.105 in /home/u41a5ebdbca214faa0191cc237aed1b9/.local/lib/python3.9/site-packages (from torch==2.3.0->-r requirements.txt (line 18)) (12.1.105)\n",
      "Requirement already satisfied: nvidia-cudnn-cu12==8.9.2.26 in /home/u41a5ebdbca214faa0191cc237aed1b9/.local/lib/python3.9/site-packages (from torch==2.3.0->-r requirements.txt (line 18)) (8.9.2.26)\n",
      "Requirement already satisfied: nvidia-cublas-cu12==12.1.3.1 in /home/u41a5ebdbca214faa0191cc237aed1b9/.local/lib/python3.9/site-packages (from torch==2.3.0->-r requirements.txt (line 18)) (12.1.3.1)\n",
      "Requirement already satisfied: nvidia-cufft-cu12==11.0.2.54 in /home/u41a5ebdbca214faa0191cc237aed1b9/.local/lib/python3.9/site-packages (from torch==2.3.0->-r requirements.txt (line 18)) (11.0.2.54)\n",
      "Requirement already satisfied: nvidia-curand-cu12==10.3.2.106 in /home/u41a5ebdbca214faa0191cc237aed1b9/.local/lib/python3.9/site-packages (from torch==2.3.0->-r requirements.txt (line 18)) (10.3.2.106)\n",
      "Requirement already satisfied: nvidia-cusolver-cu12==11.4.5.107 in /home/u41a5ebdbca214faa0191cc237aed1b9/.local/lib/python3.9/site-packages (from torch==2.3.0->-r requirements.txt (line 18)) (11.4.5.107)\n",
      "Requirement already satisfied: nvidia-cusparse-cu12==12.1.0.106 in /home/u41a5ebdbca214faa0191cc237aed1b9/.local/lib/python3.9/site-packages (from torch==2.3.0->-r requirements.txt (line 18)) (12.1.0.106)\n",
      "Requirement already satisfied: nvidia-nccl-cu12==2.20.5 in /home/u41a5ebdbca214faa0191cc237aed1b9/.local/lib/python3.9/site-packages (from torch==2.3.0->-r requirements.txt (line 18)) (2.20.5)\n",
      "Requirement already satisfied: nvidia-nvtx-cu12==12.1.105 in /home/u41a5ebdbca214faa0191cc237aed1b9/.local/lib/python3.9/site-packages (from torch==2.3.0->-r requirements.txt (line 18)) (12.1.105)\n",
      "Requirement already satisfied: triton==2.3.0 in /home/u41a5ebdbca214faa0191cc237aed1b9/.local/lib/python3.9/site-packages (from torch==2.3.0->-r requirements.txt (line 18)) (2.3.0)\n",
      "Requirement already satisfied: nvidia-nvjitlink-cu12 in /home/u41a5ebdbca214faa0191cc237aed1b9/.local/lib/python3.9/site-packages (from nvidia-cusolver-cu12==11.4.5.107->torch==2.3.0->-r requirements.txt (line 18)) (12.5.40)\n",
      "Requirement already satisfied: soupsieve>1.2 in /opt/intel/oneapi/intelpython/lib/python3.9/site-packages (from beautifulsoup4->-r requirements.txt (line 1)) (2.5)\n",
      "Requirement already satisfied: torchvision>=0.5 in /home/u41a5ebdbca214faa0191cc237aed1b9/.local/lib/python3.9/site-packages (from easyocr->-r requirements.txt (line 3)) (0.18.0)\n",
      "Requirement already satisfied: opencv-python-headless in /home/u41a5ebdbca214faa0191cc237aed1b9/.local/lib/python3.9/site-packages (from easyocr->-r requirements.txt (line 3)) (4.10.0.84)\n",
      "Requirement already satisfied: scikit-image in /home/u41a5ebdbca214faa0191cc237aed1b9/.local/lib/python3.9/site-packages (from easyocr->-r requirements.txt (line 3)) (0.24.0)\n",
      "Requirement already satisfied: python-bidi in /home/u41a5ebdbca214faa0191cc237aed1b9/.local/lib/python3.9/site-packages (from easyocr->-r requirements.txt (line 3)) (0.4.2)\n",
      "Requirement already satisfied: Shapely in /home/u41a5ebdbca214faa0191cc237aed1b9/.local/lib/python3.9/site-packages (from easyocr->-r requirements.txt (line 3)) (2.0.4)\n",
      "Requirement already satisfied: pyclipper in /home/u41a5ebdbca214faa0191cc237aed1b9/.local/lib/python3.9/site-packages (from easyocr->-r requirements.txt (line 3)) (1.3.0.post5)\n",
      "Requirement already satisfied: ninja in /home/u41a5ebdbca214faa0191cc237aed1b9/.local/lib/python3.9/site-packages (from easyocr->-r requirements.txt (line 3)) (1.11.1.1)\n",
      "Requirement already satisfied: datasets in /home/u41a5ebdbca214faa0191cc237aed1b9/.local/lib/python3.9/site-packages (from FlagEmbedding->-r requirements.txt (line 4)) (2.20.0)\n",
      "Requirement already satisfied: accelerate>=0.20.1 in /home/u41a5ebdbca214faa0191cc237aed1b9/.local/lib/python3.9/site-packages (from FlagEmbedding->-r requirements.txt (line 4)) (0.28.0)\n",
      "Requirement already satisfied: importlib-metadata>=4.4 in /opt/intel/oneapi/intelpython/lib/python3.9/site-packages (from markdown->-r requirements.txt (line 10)) (7.0.2)\n",
      "Requirement already satisfied: et-xmlfile in /home/u41a5ebdbca214faa0191cc237aed1b9/.local/lib/python3.9/site-packages (from openpyxl->-r requirements.txt (line 11)) (1.1.0)\n",
      "Requirement already satisfied: PyMuPDFb==1.24.6 in /home/u41a5ebdbca214faa0191cc237aed1b9/.local/lib/python3.9/site-packages (from PyMuPDF->-r requirements.txt (line 12)) (1.24.6)\n",
      "Requirement already satisfied: lxml>=3.1.0 in /home/u41a5ebdbca214faa0191cc237aed1b9/.local/lib/python3.9/site-packages (from python-docx->-r requirements.txt (line 13)) (5.2.2)\n",
      "Requirement already satisfied: joblib>=1.2.0 in /opt/intel/oneapi/intelpython/lib/python3.9/site-packages (from scikit-learn->-r requirements.txt (line 16)) (1.3.2)\n",
      "Requirement already satisfied: threadpoolctl>=2.0.0 in /opt/intel/oneapi/intelpython/lib/python3.9/site-packages (from scikit-learn->-r requirements.txt (line 16)) (3.3.0)\n",
      "Requirement already satisfied: chardet in /home/u41a5ebdbca214faa0191cc237aed1b9/.local/lib/python3.9/site-packages (from unstructured[all-docs]->-r requirements.txt (line 20)) (5.2.0)\n",
      "Requirement already satisfied: filetype in /home/u41a5ebdbca214faa0191cc237aed1b9/.local/lib/python3.9/site-packages (from unstructured[all-docs]->-r requirements.txt (line 20)) (1.2.0)\n",
      "Requirement already satisfied: python-magic in /home/u41a5ebdbca214faa0191cc237aed1b9/.local/lib/python3.9/site-packages (from unstructured[all-docs]->-r requirements.txt (line 20)) (0.4.27)\n",
      "Requirement already satisfied: tabulate in /home/u41a5ebdbca214faa0191cc237aed1b9/.local/lib/python3.9/site-packages (from unstructured[all-docs]->-r requirements.txt (line 20)) (0.9.0)\n",
      "Requirement already satisfied: emoji in /home/u41a5ebdbca214faa0191cc237aed1b9/.local/lib/python3.9/site-packages (from unstructured[all-docs]->-r requirements.txt (line 20)) (2.12.1)\n",
      "Requirement already satisfied: python-iso639 in /home/u41a5ebdbca214faa0191cc237aed1b9/.local/lib/python3.9/site-packages (from unstructured[all-docs]->-r requirements.txt (line 20)) (2024.4.27)\n",
      "Requirement already satisfied: langdetect in /home/u41a5ebdbca214faa0191cc237aed1b9/.local/lib/python3.9/site-packages (from unstructured[all-docs]->-r requirements.txt (line 20)) (1.0.9)\n",
      "Requirement already satisfied: rapidfuzz in /home/u41a5ebdbca214faa0191cc237aed1b9/.local/lib/python3.9/site-packages (from unstructured[all-docs]->-r requirements.txt (line 20)) (3.9.3)\n",
      "Requirement already satisfied: backoff in /home/u41a5ebdbca214faa0191cc237aed1b9/.local/lib/python3.9/site-packages (from unstructured[all-docs]->-r requirements.txt (line 20)) (1.11.1)\n",
      "Requirement already satisfied: unstructured-client in /home/u41a5ebdbca214faa0191cc237aed1b9/.local/lib/python3.9/site-packages (from unstructured[all-docs]->-r requirements.txt (line 20)) (0.23.8)\n",
      "Requirement already satisfied: wrapt in /home/u41a5ebdbca214faa0191cc237aed1b9/.local/lib/python3.9/site-packages (from unstructured[all-docs]->-r requirements.txt (line 20)) (1.16.0)\n",
      "Requirement already satisfied: pillow-heif in /home/u41a5ebdbca214faa0191cc237aed1b9/.local/lib/python3.9/site-packages (from unstructured[all-docs]->-r requirements.txt (line 20)) (0.16.0)\n",
      "Requirement already satisfied: pdf2image in /home/u41a5ebdbca214faa0191cc237aed1b9/.local/lib/python3.9/site-packages (from unstructured[all-docs]->-r requirements.txt (line 20)) (1.17.0)\n",
      "Requirement already satisfied: pikepdf in /home/u41a5ebdbca214faa0191cc237aed1b9/.local/lib/python3.9/site-packages (from unstructured[all-docs]->-r requirements.txt (line 20)) (9.0.0)\n",
      "Requirement already satisfied: pandas in /opt/intel/oneapi/intelpython/lib/python3.9/site-packages (from unstructured[all-docs]->-r requirements.txt (line 20)) (2.2.2)\n",
      "Requirement already satisfied: google-cloud-vision in /home/u41a5ebdbca214faa0191cc237aed1b9/.local/lib/python3.9/site-packages (from unstructured[all-docs]->-r requirements.txt (line 20)) (2.7.2)\n",
      "Requirement already satisfied: xlrd in /home/u41a5ebdbca214faa0191cc237aed1b9/.local/lib/python3.9/site-packages (from unstructured[all-docs]->-r requirements.txt (line 20)) (2.0.1)\n",
      "Requirement already satisfied: unstructured.pytesseract>=0.3.12 in /home/u41a5ebdbca214faa0191cc237aed1b9/.local/lib/python3.9/site-packages (from unstructured[all-docs]->-r requirements.txt (line 20)) (0.3.12)\n",
      "Requirement already satisfied: pypdf in /home/u41a5ebdbca214faa0191cc237aed1b9/.local/lib/python3.9/site-packages (from unstructured[all-docs]->-r requirements.txt (line 20)) (4.2.0)\n",
      "Requirement already satisfied: unstructured-inference==0.7.36 in /home/u41a5ebdbca214faa0191cc237aed1b9/.local/lib/python3.9/site-packages (from unstructured[all-docs]->-r requirements.txt (line 20)) (0.7.36)\n",
      "Requirement already satisfied: pypandoc in /home/u41a5ebdbca214faa0191cc237aed1b9/.local/lib/python3.9/site-packages (from unstructured[all-docs]->-r requirements.txt (line 20)) (1.13)\n",
      "Requirement already satisfied: effdet in /home/u41a5ebdbca214faa0191cc237aed1b9/.local/lib/python3.9/site-packages (from unstructured[all-docs]->-r requirements.txt (line 20)) (0.4.1)\n",
      "Requirement already satisfied: pytesseract in /home/u41a5ebdbca214faa0191cc237aed1b9/.local/lib/python3.9/site-packages (from unstructured[all-docs]->-r requirements.txt (line 20)) (0.3.10)\n",
      "Requirement already satisfied: python-oxmsg in /home/u41a5ebdbca214faa0191cc237aed1b9/.local/lib/python3.9/site-packages (from unstructured[all-docs]->-r requirements.txt (line 20)) (0.0.1)\n",
      "Requirement already satisfied: python-pptx<=0.6.23 in /home/u41a5ebdbca214faa0191cc237aed1b9/.local/lib/python3.9/site-packages (from unstructured[all-docs]->-r requirements.txt (line 20)) (0.6.23)\n",
      "Requirement already satisfied: pdfminer.six in /home/u41a5ebdbca214faa0191cc237aed1b9/.local/lib/python3.9/site-packages (from unstructured[all-docs]->-r requirements.txt (line 20)) (20231228)\n",
      "Requirement already satisfied: onnx in /home/u41a5ebdbca214faa0191cc237aed1b9/.local/lib/python3.9/site-packages (from unstructured[all-docs]->-r requirements.txt (line 20)) (1.16.1)\n",
      "Requirement already satisfied: layoutparser in /home/u41a5ebdbca214faa0191cc237aed1b9/.local/lib/python3.9/site-packages (from unstructured-inference==0.7.36->unstructured[all-docs]->-r requirements.txt (line 20)) (0.3.4)\n",
      "Requirement already satisfied: python-multipart in /home/u41a5ebdbca214faa0191cc237aed1b9/.local/lib/python3.9/site-packages (from unstructured-inference==0.7.36->unstructured[all-docs]->-r requirements.txt (line 20)) (0.0.9)\n",
      "Requirement already satisfied: opencv-python!=4.7.0.68 in /home/u41a5ebdbca214faa0191cc237aed1b9/.local/lib/python3.9/site-packages (from unstructured-inference==0.7.36->unstructured[all-docs]->-r requirements.txt (line 20)) (4.10.0.84)\n",
      "Requirement already satisfied: matplotlib in /opt/intel/oneapi/intelpython/lib/python3.9/site-packages (from unstructured-inference==0.7.36->unstructured[all-docs]->-r requirements.txt (line 20)) (3.8.2)\n",
      "Requirement already satisfied: timm in /home/u41a5ebdbca214faa0191cc237aed1b9/.local/lib/python3.9/site-packages (from unstructured-inference==0.7.36->unstructured[all-docs]->-r requirements.txt (line 20)) (1.0.7)\n",
      "Requirement already satisfied: psutil in /opt/intel/oneapi/intelpython/lib/python3.9/site-packages (from accelerate>=0.20.1->FlagEmbedding->-r requirements.txt (line 4)) (5.9.8)\n",
      "Requirement already satisfied: safetensors>=0.3.1 in /home/u41a5ebdbca214faa0191cc237aed1b9/.local/lib/python3.9/site-packages (from accelerate>=0.20.1->FlagEmbedding->-r requirements.txt (line 4)) (0.4.3)\n",
      "Requirement already satisfied: aiosignal>=1.1.2 in /home/u41a5ebdbca214faa0191cc237aed1b9/.local/lib/python3.9/site-packages (from aiohttp<4.0.0,>=3.8.3->langchain==0.1.11->-r requirements.txt (line 6)) (1.3.1)\n",
      "Requirement already satisfied: attrs>=17.3.0 in /opt/intel/oneapi/intelpython/lib/python3.9/site-packages (from aiohttp<4.0.0,>=3.8.3->langchain==0.1.11->-r requirements.txt (line 6)) (23.2.0)\n",
      "Requirement already satisfied: frozenlist>=1.1.1 in /home/u41a5ebdbca214faa0191cc237aed1b9/.local/lib/python3.9/site-packages (from aiohttp<4.0.0,>=3.8.3->langchain==0.1.11->-r requirements.txt (line 6)) (1.4.1)\n",
      "Requirement already satisfied: multidict<7.0,>=4.5 in /home/u41a5ebdbca214faa0191cc237aed1b9/.local/lib/python3.9/site-packages (from aiohttp<4.0.0,>=3.8.3->langchain==0.1.11->-r requirements.txt (line 6)) (6.0.5)\n",
      "Requirement already satisfied: yarl<2.0,>=1.0 in /home/u41a5ebdbca214faa0191cc237aed1b9/.local/lib/python3.9/site-packages (from aiohttp<4.0.0,>=3.8.3->langchain==0.1.11->-r requirements.txt (line 6)) (1.9.4)\n",
      "Requirement already satisfied: marshmallow<4.0.0,>=3.18.0 in /home/u41a5ebdbca214faa0191cc237aed1b9/.local/lib/python3.9/site-packages (from dataclasses-json<0.7,>=0.5.7->langchain==0.1.11->-r requirements.txt (line 6)) (3.21.3)\n",
      "Requirement already satisfied: typing-inspect<1,>=0.4.0 in /home/u41a5ebdbca214faa0191cc237aed1b9/.local/lib/python3.9/site-packages (from dataclasses-json<0.7,>=0.5.7->langchain==0.1.11->-r requirements.txt (line 6)) (0.9.0)\n",
      "Requirement already satisfied: starlette<0.38.0,>=0.37.2 in /home/u41a5ebdbca214faa0191cc237aed1b9/.local/lib/python3.9/site-packages (from fastapi>=0.95.2->chromadb==0.4.15->-r requirements.txt (line 2)) (0.37.2)\n",
      "Requirement already satisfied: fastapi-cli>=0.0.2 in /home/u41a5ebdbca214faa0191cc237aed1b9/.local/lib/python3.9/site-packages (from fastapi>=0.95.2->chromadb==0.4.15->-r requirements.txt (line 2)) (0.0.4)\n",
      "Requirement already satisfied: ujson!=4.0.2,!=4.1.0,!=4.2.0,!=4.3.0,!=5.0.0,!=5.1.0,>=4.0.1 in /home/u41a5ebdbca214faa0191cc237aed1b9/.local/lib/python3.9/site-packages (from fastapi>=0.95.2->chromadb==0.4.15->-r requirements.txt (line 2)) (5.10.0)\n",
      "Requirement already satisfied: orjson>=3.2.1 in /home/u41a5ebdbca214faa0191cc237aed1b9/.local/lib/python3.9/site-packages (from fastapi>=0.95.2->chromadb==0.4.15->-r requirements.txt (line 2)) (3.10.5)\n",
      "Requirement already satisfied: email_validator>=2.0.0 in /home/u41a5ebdbca214faa0191cc237aed1b9/.local/lib/python3.9/site-packages (from fastapi>=0.95.2->chromadb==0.4.15->-r requirements.txt (line 2)) (2.2.0)\n",
      "Collecting protobuf<6.0dev,>=5.26.1 (from grpcio-tools>=1.41.0->qdrant-client==1.9.0->-r requirements.txt (line 14))\n",
      "  Using cached protobuf-5.27.2-cp38-abi3-manylinux2014_x86_64.whl.metadata (592 bytes)\n",
      "Requirement already satisfied: setuptools in /opt/intel/oneapi/intelpython/lib/python3.9/site-packages (from grpcio-tools>=1.41.0->qdrant-client==1.9.0->-r requirements.txt (line 14)) (69.1.0)\n",
      "Requirement already satisfied: anyio in /opt/intel/oneapi/intelpython/lib/python3.9/site-packages (from httpx>=0.20.0->httpx[http2]>=0.20.0->qdrant-client==1.9.0->-r requirements.txt (line 14)) (4.3.0)\n",
      "Requirement already satisfied: certifi in /opt/intel/oneapi/intelpython/lib/python3.9/site-packages (from httpx>=0.20.0->httpx[http2]>=0.20.0->qdrant-client==1.9.0->-r requirements.txt (line 14)) (2024.2.2)\n",
      "Requirement already satisfied: httpcore==1.* in /opt/intel/oneapi/intelpython/lib/python3.9/site-packages (from httpx>=0.20.0->httpx[http2]>=0.20.0->qdrant-client==1.9.0->-r requirements.txt (line 14)) (1.0.4)\n",
      "Requirement already satisfied: idna in /opt/intel/oneapi/intelpython/lib/python3.9/site-packages (from httpx>=0.20.0->httpx[http2]>=0.20.0->qdrant-client==1.9.0->-r requirements.txt (line 14)) (3.6)\n",
      "Requirement already satisfied: sniffio in /opt/intel/oneapi/intelpython/lib/python3.9/site-packages (from httpx>=0.20.0->httpx[http2]>=0.20.0->qdrant-client==1.9.0->-r requirements.txt (line 14)) (1.3.1)\n",
      "Requirement already satisfied: h11<0.15,>=0.13 in /opt/intel/oneapi/intelpython/lib/python3.9/site-packages (from httpcore==1.*->httpx>=0.20.0->httpx[http2]>=0.20.0->qdrant-client==1.9.0->-r requirements.txt (line 14)) (0.14.0)\n",
      "Requirement already satisfied: h2<5,>=3 in /opt/intel/oneapi/intelpython/lib/python3.9/site-packages (from httpx[http2]>=0.20.0->qdrant-client==1.9.0->-r requirements.txt (line 14)) (4.1.0)\n",
      "Requirement already satisfied: zipp>=0.5 in /opt/intel/oneapi/intelpython/lib/python3.9/site-packages (from importlib-metadata>=4.4->markdown->-r requirements.txt (line 10)) (3.17.0)\n",
      "Requirement already satisfied: MarkupSafe>=2.0 in /opt/intel/oneapi/intelpython/lib/python3.9/site-packages (from jinja2->torch==2.3.0->-r requirements.txt (line 18)) (2.1.4)\n",
      "Requirement already satisfied: jsonpointer>=1.9 in /opt/intel/oneapi/intelpython/lib/python3.9/site-packages (from jsonpatch<2.0,>=1.33->langchain==0.1.11->-r requirements.txt (line 6)) (2.4)\n",
      "Requirement already satisfied: six>=1.9.0 in /opt/intel/oneapi/intelpython/lib/python3.9/site-packages (from kubernetes>=28.1.0->chromadb==0.4.15->-r requirements.txt (line 2)) (1.16.0)\n",
      "Requirement already satisfied: python-dateutil>=2.5.3 in /opt/intel/oneapi/intelpython/lib/python3.9/site-packages (from kubernetes>=28.1.0->chromadb==0.4.15->-r requirements.txt (line 2)) (2.8.2)\n",
      "Requirement already satisfied: google-auth>=1.0.1 in /home/u41a5ebdbca214faa0191cc237aed1b9/.local/lib/python3.9/site-packages (from kubernetes>=28.1.0->chromadb==0.4.15->-r requirements.txt (line 2)) (2.30.0)\n",
      "Requirement already satisfied: websocket-client!=0.40.0,!=0.41.*,!=0.42.*,>=0.32.0 in /opt/intel/oneapi/intelpython/lib/python3.9/site-packages (from kubernetes>=28.1.0->chromadb==0.4.15->-r requirements.txt (line 2)) (1.7.0)\n",
      "Requirement already satisfied: requests-oauthlib in /home/u41a5ebdbca214faa0191cc237aed1b9/.local/lib/python3.9/site-packages (from kubernetes>=28.1.0->chromadb==0.4.15->-r requirements.txt (line 2)) (2.0.0)\n",
      "Requirement already satisfied: oauthlib>=3.2.2 in /home/u41a5ebdbca214faa0191cc237aed1b9/.local/lib/python3.9/site-packages (from kubernetes>=28.1.0->chromadb==0.4.15->-r requirements.txt (line 2)) (3.2.2)\n",
      "Requirement already satisfied: coloredlogs in /home/u41a5ebdbca214faa0191cc237aed1b9/.local/lib/python3.9/site-packages (from onnxruntime>=1.14.1->chromadb==0.4.15->-r requirements.txt (line 2)) (15.0.1)\n",
      "Requirement already satisfied: flatbuffers in /home/u41a5ebdbca214faa0191cc237aed1b9/.local/lib/python3.9/site-packages (from onnxruntime>=1.14.1->chromadb==0.4.15->-r requirements.txt (line 2)) (24.3.25)\n",
      "Requirement already satisfied: deprecated>=1.2.6 in /home/u41a5ebdbca214faa0191cc237aed1b9/.local/lib/python3.9/site-packages (from opentelemetry-api>=1.2.0->chromadb==0.4.15->-r requirements.txt (line 2)) (1.2.14)\n",
      "Requirement already satisfied: googleapis-common-protos~=1.52 in /home/u41a5ebdbca214faa0191cc237aed1b9/.local/lib/python3.9/site-packages (from opentelemetry-exporter-otlp-proto-grpc>=1.2.0->chromadb==0.4.15->-r requirements.txt (line 2)) (1.63.2)\n",
      "Requirement already satisfied: opentelemetry-proto==1.11.1 in /home/u41a5ebdbca214faa0191cc237aed1b9/.local/lib/python3.9/site-packages (from opentelemetry-exporter-otlp-proto-grpc>=1.2.0->chromadb==0.4.15->-r requirements.txt (line 2)) (1.11.1)\n",
      "Requirement already satisfied: opentelemetry-semantic-conventions==0.46b0 in /home/u41a5ebdbca214faa0191cc237aed1b9/.local/lib/python3.9/site-packages (from opentelemetry-sdk>=1.2.0->chromadb==0.4.15->-r requirements.txt (line 2)) (0.46b0)\n",
      "Requirement already satisfied: monotonic>=1.5 in /home/u41a5ebdbca214faa0191cc237aed1b9/.local/lib/python3.9/site-packages (from posthog>=2.4.0->chromadb==0.4.15->-r requirements.txt (line 2)) (1.6)\n",
      "Requirement already satisfied: XlsxWriter>=0.5.7 in /home/u41a5ebdbca214faa0191cc237aed1b9/.local/lib/python3.9/site-packages (from python-pptx<=0.6.23->unstructured[all-docs]->-r requirements.txt (line 20)) (3.2.0)\n",
      "Requirement already satisfied: charset-normalizer<4,>=2 in /opt/intel/oneapi/intelpython/lib/python3.9/site-packages (from requests>=2.28->chromadb==0.4.15->-r requirements.txt (line 2)) (3.3.2)\n",
      "Requirement already satisfied: greenlet!=0.4.17 in /home/u41a5ebdbca214faa0191cc237aed1b9/.local/lib/python3.9/site-packages (from SQLAlchemy<3,>=1.4->langchain==0.1.11->-r requirements.txt (line 6)) (3.0.3)\n",
      "Requirement already satisfied: regex!=2019.12.17 in /home/u41a5ebdbca214faa0191cc237aed1b9/.local/lib/python3.9/site-packages (from transformers<5.0.0,>=4.32.0->sentence-transformers==2.3.1->-r requirements.txt (line 17)) (2024.5.15)\n",
      "Requirement already satisfied: click>=8.0.0 in /home/u41a5ebdbca214faa0191cc237aed1b9/.local/lib/python3.9/site-packages (from typer>=0.9.0->chromadb==0.4.15->-r requirements.txt (line 2)) (8.1.7)\n",
      "Requirement already satisfied: shellingham>=1.3.0 in /home/u41a5ebdbca214faa0191cc237aed1b9/.local/lib/python3.9/site-packages (from typer>=0.9.0->chromadb==0.4.15->-r requirements.txt (line 2)) (1.5.4)\n",
      "Requirement already satisfied: rich>=10.11.0 in /home/u41a5ebdbca214faa0191cc237aed1b9/.local/lib/python3.9/site-packages (from typer>=0.9.0->chromadb==0.4.15->-r requirements.txt (line 2)) (13.7.1)\n",
      "Requirement already satisfied: httptools>=0.5.0 in /home/u41a5ebdbca214faa0191cc237aed1b9/.local/lib/python3.9/site-packages (from uvicorn[standard]>=0.18.3->chromadb==0.4.15->-r requirements.txt (line 2)) (0.6.1)\n",
      "Requirement already satisfied: python-dotenv>=0.13 in /home/u41a5ebdbca214faa0191cc237aed1b9/.local/lib/python3.9/site-packages (from uvicorn[standard]>=0.18.3->chromadb==0.4.15->-r requirements.txt (line 2)) (1.0.1)\n",
      "Requirement already satisfied: uvloop!=0.15.0,!=0.15.1,>=0.14.0 in /home/u41a5ebdbca214faa0191cc237aed1b9/.local/lib/python3.9/site-packages (from uvicorn[standard]>=0.18.3->chromadb==0.4.15->-r requirements.txt (line 2)) (0.19.0)\n",
      "Requirement already satisfied: watchfiles>=0.13 in /home/u41a5ebdbca214faa0191cc237aed1b9/.local/lib/python3.9/site-packages (from uvicorn[standard]>=0.18.3->chromadb==0.4.15->-r requirements.txt (line 2)) (0.22.0)\n",
      "Requirement already satisfied: websockets>=10.4 in /home/u41a5ebdbca214faa0191cc237aed1b9/.local/lib/python3.9/site-packages (from uvicorn[standard]>=0.18.3->chromadb==0.4.15->-r requirements.txt (line 2)) (12.0)\n",
      "Requirement already satisfied: pyarrow>=15.0.0 in /home/u41a5ebdbca214faa0191cc237aed1b9/.local/lib/python3.9/site-packages (from datasets->FlagEmbedding->-r requirements.txt (line 4)) (16.1.0)\n",
      "Requirement already satisfied: pyarrow-hotfix in /home/u41a5ebdbca214faa0191cc237aed1b9/.local/lib/python3.9/site-packages (from datasets->FlagEmbedding->-r requirements.txt (line 4)) (0.6)\n",
      "Requirement already satisfied: dill<0.3.9,>=0.3.0 in /home/u41a5ebdbca214faa0191cc237aed1b9/.local/lib/python3.9/site-packages (from datasets->FlagEmbedding->-r requirements.txt (line 4)) (0.3.8)\n",
      "Requirement already satisfied: xxhash in /home/u41a5ebdbca214faa0191cc237aed1b9/.local/lib/python3.9/site-packages (from datasets->FlagEmbedding->-r requirements.txt (line 4)) (3.4.1)\n",
      "Requirement already satisfied: multiprocess in /home/u41a5ebdbca214faa0191cc237aed1b9/.local/lib/python3.9/site-packages (from datasets->FlagEmbedding->-r requirements.txt (line 4)) (0.70.16)\n",
      "Requirement already satisfied: pycocotools>=2.0.2 in /home/u41a5ebdbca214faa0191cc237aed1b9/.local/lib/python3.9/site-packages (from effdet->unstructured[all-docs]->-r requirements.txt (line 20)) (2.0.8)\n",
      "Requirement already satisfied: omegaconf>=2.0 in /home/u41a5ebdbca214faa0191cc237aed1b9/.local/lib/python3.9/site-packages (from effdet->unstructured[all-docs]->-r requirements.txt (line 20)) (2.3.0)\n",
      "Requirement already satisfied: google-api-core!=2.0.*,!=2.1.*,!=2.2.*,!=2.3.0,<3.0.0dev,>=1.31.5 in /home/u41a5ebdbca214faa0191cc237aed1b9/.local/lib/python3.9/site-packages (from google-api-core[grpc]!=2.0.*,!=2.1.*,!=2.2.*,!=2.3.0,<3.0.0dev,>=1.31.5->google-cloud-vision->unstructured[all-docs]->-r requirements.txt (line 20)) (2.19.1)\n",
      "Requirement already satisfied: proto-plus>=1.15.0 in /home/u41a5ebdbca214faa0191cc237aed1b9/.local/lib/python3.9/site-packages (from google-cloud-vision->unstructured[all-docs]->-r requirements.txt (line 20)) (1.24.0)\n",
      "Requirement already satisfied: pytz>=2020.1 in /opt/intel/oneapi/intelpython/lib/python3.9/site-packages (from pandas->unstructured[all-docs]->-r requirements.txt (line 20)) (2024.1)\n",
      "Requirement already satisfied: tzdata>=2022.7 in /opt/intel/oneapi/intelpython/lib/python3.9/site-packages (from pandas->unstructured[all-docs]->-r requirements.txt (line 20)) (2023.4)\n",
      "Requirement already satisfied: cryptography>=36.0.0 in /opt/intel/oneapi/intelpython/lib/python3.9/site-packages (from pdfminer.six->unstructured[all-docs]->-r requirements.txt (line 20)) (41.0.4)\n",
      "Requirement already satisfied: olefile in /home/u41a5ebdbca214faa0191cc237aed1b9/.local/lib/python3.9/site-packages (from python-oxmsg->unstructured[all-docs]->-r requirements.txt (line 20)) (0.47)\n",
      "Requirement already satisfied: imageio>=2.33 in /home/u41a5ebdbca214faa0191cc237aed1b9/.local/lib/python3.9/site-packages (from scikit-image->easyocr->-r requirements.txt (line 3)) (2.34.2)\n",
      "Requirement already satisfied: tifffile>=2022.8.12 in /home/u41a5ebdbca214faa0191cc237aed1b9/.local/lib/python3.9/site-packages (from scikit-image->easyocr->-r requirements.txt (line 3)) (2024.6.18)\n",
      "Requirement already satisfied: lazy-loader>=0.4 in /home/u41a5ebdbca214faa0191cc237aed1b9/.local/lib/python3.9/site-packages (from scikit-image->easyocr->-r requirements.txt (line 3)) (0.4)\n",
      "Requirement already satisfied: mpmath<1.4.0,>=1.1.0 in /home/u41a5ebdbca214faa0191cc237aed1b9/.local/lib/python3.9/site-packages (from sympy->torch==2.3.0->-r requirements.txt (line 18)) (1.3.0)\n",
      "Requirement already satisfied: deepdiff>=6.0 in /home/u41a5ebdbca214faa0191cc237aed1b9/.local/lib/python3.9/site-packages (from unstructured-client->unstructured[all-docs]->-r requirements.txt (line 20)) (7.0.1)\n",
      "Requirement already satisfied: jsonpath-python>=1.0.6 in /home/u41a5ebdbca214faa0191cc237aed1b9/.local/lib/python3.9/site-packages (from unstructured-client->unstructured[all-docs]->-r requirements.txt (line 20)) (1.0.6)\n",
      "Requirement already satisfied: mypy-extensions>=1.0.0 in /home/u41a5ebdbca214faa0191cc237aed1b9/.local/lib/python3.9/site-packages (from unstructured-client->unstructured[all-docs]->-r requirements.txt (line 20)) (1.0.0)\n",
      "Requirement already satisfied: nest-asyncio>=1.6.0 in /opt/intel/oneapi/intelpython/lib/python3.9/site-packages (from unstructured-client->unstructured[all-docs]->-r requirements.txt (line 20)) (1.6.0)\n",
      "Requirement already satisfied: requests-toolbelt>=1.0.0 in /home/u41a5ebdbca214faa0191cc237aed1b9/.local/lib/python3.9/site-packages (from unstructured-client->unstructured[all-docs]->-r requirements.txt (line 20)) (1.0.0)\n",
      "Requirement already satisfied: cffi>=1.12 in /opt/intel/oneapi/intelpython/lib/python3.9/site-packages (from cryptography>=36.0.0->pdfminer.six->unstructured[all-docs]->-r requirements.txt (line 20)) (1.16.0)\n",
      "Requirement already satisfied: ordered-set<4.2.0,>=4.1.0 in /home/u41a5ebdbca214faa0191cc237aed1b9/.local/lib/python3.9/site-packages (from deepdiff>=6.0->unstructured-client->unstructured[all-docs]->-r requirements.txt (line 20)) (4.1.0)\n",
      "Requirement already satisfied: dnspython>=2.0.0 in /home/u41a5ebdbca214faa0191cc237aed1b9/.local/lib/python3.9/site-packages (from email_validator>=2.0.0->fastapi>=0.95.2->chromadb==0.4.15->-r requirements.txt (line 2)) (2.6.1)\n",
      "Requirement already satisfied: grpcio-status<2.0.dev0,>=1.33.2 in /home/u41a5ebdbca214faa0191cc237aed1b9/.local/lib/python3.9/site-packages (from google-api-core[grpc]!=2.0.*,!=2.1.*,!=2.2.*,!=2.3.0,<3.0.0dev,>=1.31.5->google-cloud-vision->unstructured[all-docs]->-r requirements.txt (line 20)) (1.64.1)\n",
      "Requirement already satisfied: cachetools<6.0,>=2.0.0 in /home/u41a5ebdbca214faa0191cc237aed1b9/.local/lib/python3.9/site-packages (from google-auth>=1.0.1->kubernetes>=28.1.0->chromadb==0.4.15->-r requirements.txt (line 2)) (5.3.3)\n",
      "Requirement already satisfied: pyasn1-modules>=0.2.1 in /home/u41a5ebdbca214faa0191cc237aed1b9/.local/lib/python3.9/site-packages (from google-auth>=1.0.1->kubernetes>=28.1.0->chromadb==0.4.15->-r requirements.txt (line 2)) (0.4.0)\n",
      "Requirement already satisfied: rsa<5,>=3.1.4 in /home/u41a5ebdbca214faa0191cc237aed1b9/.local/lib/python3.9/site-packages (from google-auth>=1.0.1->kubernetes>=28.1.0->chromadb==0.4.15->-r requirements.txt (line 2)) (4.9)\n",
      "Requirement already satisfied: hyperframe<7,>=6.0 in /opt/intel/oneapi/intelpython/lib/python3.9/site-packages (from h2<5,>=3->httpx[http2]>=0.20.0->qdrant-client==1.9.0->-r requirements.txt (line 14)) (6.0.1)\n",
      "Requirement already satisfied: hpack<5,>=4.0 in /opt/intel/oneapi/intelpython/lib/python3.9/site-packages (from h2<5,>=3->httpx[http2]>=0.20.0->qdrant-client==1.9.0->-r requirements.txt (line 14)) (4.0.0)\n",
      "Requirement already satisfied: antlr4-python3-runtime==4.9.* in /home/u41a5ebdbca214faa0191cc237aed1b9/.local/lib/python3.9/site-packages (from omegaconf>=2.0->effdet->unstructured[all-docs]->-r requirements.txt (line 20)) (4.9.3)\n",
      "Requirement already satisfied: contourpy>=1.0.1 in /opt/intel/oneapi/intelpython/lib/python3.9/site-packages (from matplotlib->unstructured-inference==0.7.36->unstructured[all-docs]->-r requirements.txt (line 20)) (1.2.0)\n",
      "Requirement already satisfied: cycler>=0.10 in /opt/intel/oneapi/intelpython/lib/python3.9/site-packages (from matplotlib->unstructured-inference==0.7.36->unstructured[all-docs]->-r requirements.txt (line 20)) (0.12.1)\n",
      "Requirement already satisfied: fonttools>=4.22.0 in /opt/intel/oneapi/intelpython/lib/python3.9/site-packages (from matplotlib->unstructured-inference==0.7.36->unstructured[all-docs]->-r requirements.txt (line 20)) (4.47.2)\n",
      "Requirement already satisfied: kiwisolver>=1.3.1 in /opt/intel/oneapi/intelpython/lib/python3.9/site-packages (from matplotlib->unstructured-inference==0.7.36->unstructured[all-docs]->-r requirements.txt (line 20)) (1.4.5)\n",
      "Requirement already satisfied: pyparsing>=2.3.1 in /opt/intel/oneapi/intelpython/lib/python3.9/site-packages (from matplotlib->unstructured-inference==0.7.36->unstructured[all-docs]->-r requirements.txt (line 20)) (3.1.1)\n",
      "Requirement already satisfied: markdown-it-py>=2.2.0 in /home/u41a5ebdbca214faa0191cc237aed1b9/.local/lib/python3.9/site-packages (from rich>=10.11.0->typer>=0.9.0->chromadb==0.4.15->-r requirements.txt (line 2)) (3.0.0)\n",
      "Requirement already satisfied: pygments<3.0.0,>=2.13.0 in /opt/intel/oneapi/intelpython/lib/python3.9/site-packages (from rich>=10.11.0->typer>=0.9.0->chromadb==0.4.15->-r requirements.txt (line 2)) (2.17.2)\n",
      "Requirement already satisfied: exceptiongroup>=1.0.2 in /opt/intel/oneapi/intelpython/lib/python3.9/site-packages (from anyio->httpx>=0.20.0->httpx[http2]>=0.20.0->qdrant-client==1.9.0->-r requirements.txt (line 14)) (1.2.0)\n",
      "Requirement already satisfied: humanfriendly>=9.1 in /home/u41a5ebdbca214faa0191cc237aed1b9/.local/lib/python3.9/site-packages (from coloredlogs->onnxruntime>=1.14.1->chromadb==0.4.15->-r requirements.txt (line 2)) (10.0)\n",
      "Requirement already satisfied: iopath in /home/u41a5ebdbca214faa0191cc237aed1b9/.local/lib/python3.9/site-packages (from layoutparser->unstructured-inference==0.7.36->unstructured[all-docs]->-r requirements.txt (line 20)) (0.1.10)\n",
      "Requirement already satisfied: pdfplumber in /home/u41a5ebdbca214faa0191cc237aed1b9/.local/lib/python3.9/site-packages (from layoutparser->unstructured-inference==0.7.36->unstructured[all-docs]->-r requirements.txt (line 20)) (0.11.1)\n",
      "Requirement already satisfied: pycparser in /opt/intel/oneapi/intelpython/lib/python3.9/site-packages (from cffi>=1.12->cryptography>=36.0.0->pdfminer.six->unstructured[all-docs]->-r requirements.txt (line 20)) (2.21)\n",
      "Requirement already satisfied: mdurl~=0.1 in /home/u41a5ebdbca214faa0191cc237aed1b9/.local/lib/python3.9/site-packages (from markdown-it-py>=2.2.0->rich>=10.11.0->typer>=0.9.0->chromadb==0.4.15->-r requirements.txt (line 2)) (0.1.2)\n",
      "Requirement already satisfied: pyasn1<0.7.0,>=0.4.6 in /home/u41a5ebdbca214faa0191cc237aed1b9/.local/lib/python3.9/site-packages (from pyasn1-modules>=0.2.1->google-auth>=1.0.1->kubernetes>=28.1.0->chromadb==0.4.15->-r requirements.txt (line 2)) (0.6.0)\n",
      "Requirement already satisfied: pypdfium2>=4.18.0 in /home/u41a5ebdbca214faa0191cc237aed1b9/.local/lib/python3.9/site-packages (from pdfplumber->layoutparser->unstructured-inference==0.7.36->unstructured[all-docs]->-r requirements.txt (line 20)) (4.30.0)\n",
      "Using cached protobuf-5.27.2-cp38-abi3-manylinux2014_x86_64.whl (309 kB)\n",
      "Installing collected packages: protobuf\n",
      "  Attempting uninstall: protobuf\n",
      "    Found existing installation: protobuf 4.25.3\n",
      "    Uninstalling protobuf-4.25.3:\n",
      "      Successfully uninstalled protobuf-4.25.3\n",
      "\u001b[31mERROR: pip's dependency resolver does not currently take into account all the packages that are installed. This behaviour is the source of the following dependency conflicts.\n",
      "tensorflow 2.16.2 requires protobuf!=4.21.0,!=4.21.1,!=4.21.2,!=4.21.3,!=4.21.4,!=4.21.5,<5.0.0dev,>=3.20.3, but you have protobuf 5.27.2 which is incompatible.\u001b[0m\u001b[31m\n",
      "\u001b[0mSuccessfully installed protobuf-5.27.2\n",
      "/home/u41a5ebdbca214faa0191cc237aed1b9/intel-extension-for-transformers/intel_extension_for_transformers/neural_chat/docs/notebooks\n"
     ]
    }
   ],
   "source": [
    "%cd ./intel-extension-for-transformers/intel_extension_for_transformers/neural_chat/pipeline/plugins/retrieval/\n",
    "!pip install -r requirements.txt\n",
    "%cd ../../../../../../"
   ]
  },
  {
   "cell_type": "code",
   "execution_count": 9,
   "metadata": {},
   "outputs": [
    {
     "name": "stderr",
     "output_type": "stream",
     "text": [
      "huggingface/tokenizers: The current process just got forked, after parallelism has already been used. Disabling parallelism to avoid deadlocks...\n",
      "To disable this warning, you can either:\n",
      "\t- Avoid using `tokenizers` before the fork if possible\n",
      "\t- Explicitly set the environment variable TOKENIZERS_PARALLELISM=(true | false)\n"
     ]
    },
    {
     "name": "stdout",
     "output_type": "stream",
     "text": [
      "mkdir: cannot create directory ‘docs’: File exists\n",
      "/home/u41a5ebdbca214faa0191cc237aed1b9/intel-extension-for-transformers/intel_extension_for_transformers/neural_chat/docs/notebooks/docs\n"
     ]
    },
    {
     "name": "stderr",
     "output_type": "stream",
     "text": [
      "huggingface/tokenizers: The current process just got forked, after parallelism has already been used. Disabling parallelism to avoid deadlocks...\n",
      "To disable this warning, you can either:\n",
      "\t- Avoid using `tokenizers` before the fork if possible\n",
      "\t- Explicitly set the environment variable TOKENIZERS_PARALLELISM=(true | false)\n"
     ]
    },
    {
     "name": "stdout",
     "output_type": "stream",
     "text": [
      "  % Total    % Received % Xferd  Average Speed   Time    Time     Time  Current\n",
      "                                 Dload  Upload   Total   Spent    Left  Speed\n",
      "100   854  100   854    0     0   3270      0 --:--:-- --:--:-- --:--:--  3284\n"
     ]
    },
    {
     "name": "stderr",
     "output_type": "stream",
     "text": [
      "huggingface/tokenizers: The current process just got forked, after parallelism has already been used. Disabling parallelism to avoid deadlocks...\n",
      "To disable this warning, you can either:\n",
      "\t- Avoid using `tokenizers` before the fork if possible\n",
      "\t- Explicitly set the environment variable TOKENIZERS_PARALLELISM=(true | false)\n"
     ]
    },
    {
     "name": "stdout",
     "output_type": "stream",
     "text": [
      "  % Total    % Received % Xferd  Average Speed   Time    Time     Time  Current\n",
      "                                 Dload  Upload   Total   Spent    Left  Speed\n",
      "100    59  100    59    0     0    484      0 --:--:-- --:--:-- --:--:--   487\n"
     ]
    },
    {
     "name": "stderr",
     "output_type": "stream",
     "text": [
      "huggingface/tokenizers: The current process just got forked, after parallelism has already been used. Disabling parallelism to avoid deadlocks...\n",
      "To disable this warning, you can either:\n",
      "\t- Avoid using `tokenizers` before the fork if possible\n",
      "\t- Explicitly set the environment variable TOKENIZERS_PARALLELISM=(true | false)\n"
     ]
    },
    {
     "name": "stdout",
     "output_type": "stream",
     "text": [
      "  % Total    % Received % Xferd  Average Speed   Time    Time     Time  Current\n",
      "                                 Dload  Upload   Total   Spent    Left  Speed\n",
      "100  8577  100  8577    0     0  31383      0 --:--:-- --:--:-- --:--:-- 31417\n",
      "/home/u41a5ebdbca214faa0191cc237aed1b9/intel-extension-for-transformers/intel_extension_for_transformers/neural_chat/docs/notebooks\n"
     ]
    }
   ],
   "source": [
    "!mkdir docs\n",
    "%cd docs\n",
    "!curl -OL https://raw.githubusercontent.com/intel/intel-extension-for-transformers/main/intel_extension_for_transformers/neural_chat/assets/docs/sample.jsonl\n",
    "!curl -OL https://raw.githubusercontent.com/intel/intel-extension-for-transformers/main/intel_extension_for_transformers/neural_chat/assets/docs/sample.txt\n",
    "!curl -OL https://raw.githubusercontent.com/intel/intel-extension-for-transformers/main/intel_extension_for_transformers/neural_chat/assets/docs/sample.xlsx\n",
    "%cd .."
   ]
  },
  {
   "cell_type": "code",
   "execution_count": 10,
   "metadata": {},
   "outputs": [
    {
     "ename": "ImportError",
     "evalue": "Unable to initialize 'retrieval' plugin due to missing dependency packages.\nPlease run pip install -r requirements.txt to enable.\nPlease find the 'requirements.txt' file in the directory 'intel_extension_for_transformers.neural_chat.pipeline.plugins.retrieval'.",
     "output_type": "error",
     "traceback": [
      "\u001b[0;31m---------------------------------------------------------------------------\u001b[0m",
      "\u001b[0;31mImportError\u001b[0m                               Traceback (most recent call last)",
      "Cell \u001b[0;32mIn[10], line 7\u001b[0m\n\u001b[1;32m      5\u001b[0m plugins\u001b[38;5;241m.\u001b[39mretrieval\u001b[38;5;241m.\u001b[39margs[\u001b[38;5;124m\"\u001b[39m\u001b[38;5;124minput_path\u001b[39m\u001b[38;5;124m\"\u001b[39m]\u001b[38;5;241m=\u001b[39m\u001b[38;5;124m\"\u001b[39m\u001b[38;5;124m./docs/\u001b[39m\u001b[38;5;124m\"\u001b[39m\n\u001b[1;32m      6\u001b[0m config \u001b[38;5;241m=\u001b[39m PipelineConfig(plugins\u001b[38;5;241m=\u001b[39mplugins)\n\u001b[0;32m----> 7\u001b[0m chatbot \u001b[38;5;241m=\u001b[39m \u001b[43mbuild_chatbot\u001b[49m\u001b[43m(\u001b[49m\u001b[43mconfig\u001b[49m\u001b[43m)\u001b[49m\n\u001b[1;32m      8\u001b[0m response \u001b[38;5;241m=\u001b[39m chatbot\u001b[38;5;241m.\u001b[39mpredict(\u001b[38;5;124m\"\u001b[39m\u001b[38;5;124mHow many cores does the Intel® Xeon® Platinum 8480+ Processor have in total?\u001b[39m\u001b[38;5;124m\"\u001b[39m)\n\u001b[1;32m      9\u001b[0m \u001b[38;5;28mprint\u001b[39m(response)\n",
      "File \u001b[0;32m~/.conda/envs/itrex-l/lib/python3.10/site-packages/intel_extension_for_transformers/neural_chat/chatbot.py:205\u001b[0m, in \u001b[0;36mbuild_chatbot\u001b[0;34m(config)\u001b[0m\n\u001b[1;32m    203\u001b[0m \u001b[38;5;28;01mif\u001b[39;00m plugin_name \u001b[38;5;241m==\u001b[39m \u001b[38;5;124m\"\u001b[39m\u001b[38;5;124mretrieval\u001b[39m\u001b[38;5;124m\"\u001b[39m:\n\u001b[1;32m    204\u001b[0m     \u001b[38;5;28;01mif\u001b[39;00m \u001b[38;5;129;01mnot\u001b[39;00m check_retrieval_dependency():\n\u001b[0;32m--> 205\u001b[0m         \u001b[38;5;28;01mraise\u001b[39;00m \u001b[38;5;167;01mImportError\u001b[39;00m(\n\u001b[1;32m    206\u001b[0m             \u001b[38;5;124mf\u001b[39m\u001b[38;5;124m\"\u001b[39m\u001b[38;5;124mUnable to initialize \u001b[39m\u001b[38;5;124m'\u001b[39m\u001b[38;5;124mretrieval\u001b[39m\u001b[38;5;124m'\u001b[39m\u001b[38;5;124m plugin due to missing dependency packages.\u001b[39m\u001b[38;5;130;01m\\n\u001b[39;00m\u001b[38;5;124m\"\u001b[39m \\\n\u001b[1;32m    207\u001b[0m             \u001b[38;5;124mf\u001b[39m\u001b[38;5;124m\"\u001b[39m\u001b[38;5;124mPlease run pip install -r requirements.txt to enable.\u001b[39m\u001b[38;5;130;01m\\n\u001b[39;00m\u001b[38;5;124m\"\u001b[39m \\\n\u001b[1;32m    208\u001b[0m             \u001b[38;5;124mf\u001b[39m\u001b[38;5;124m\"\u001b[39m\u001b[38;5;124mPlease find the \u001b[39m\u001b[38;5;124m'\u001b[39m\u001b[38;5;124mrequirements.txt\u001b[39m\u001b[38;5;124m'\u001b[39m\u001b[38;5;124m file in the directory \u001b[39m\u001b[38;5;124m\"\u001b[39m \\\n\u001b[1;32m    209\u001b[0m             \u001b[38;5;124m\"\u001b[39m\u001b[38;5;124m'\u001b[39m\u001b[38;5;124mintel_extension_for_transformers.neural_chat.pipeline.plugins.retrieval\u001b[39m\u001b[38;5;124m'\u001b[39m\u001b[38;5;124m.\u001b[39m\u001b[38;5;124m\"\u001b[39m\n\u001b[1;32m    210\u001b[0m         )\n\u001b[1;32m    211\u001b[0m \u001b[38;5;28;01mif\u001b[39;00m plugin_name \u001b[38;5;241m==\u001b[39m \u001b[38;5;124m\"\u001b[39m\u001b[38;5;124mface_animation\u001b[39m\u001b[38;5;124m\"\u001b[39m:\n\u001b[1;32m    212\u001b[0m     \u001b[38;5;28;01mif\u001b[39;00m \u001b[38;5;129;01mnot\u001b[39;00m check_faceanimation_dependency():\n",
      "\u001b[0;31mImportError\u001b[0m: Unable to initialize 'retrieval' plugin due to missing dependency packages.\nPlease run pip install -r requirements.txt to enable.\nPlease find the 'requirements.txt' file in the directory 'intel_extension_for_transformers.neural_chat.pipeline.plugins.retrieval'."
     ]
    }
   ],
   "source": [
    "from intel_extension_for_transformers.neural_chat import PipelineConfig\n",
    "from intel_extension_for_transformers.neural_chat import build_chatbot\n",
    "from intel_extension_for_transformers.neural_chat import plugins\n",
    "plugins.retrieval.enable=True\n",
    "plugins.retrieval.args[\"input_path\"]=\"./docs/\"\n",
    "config = PipelineConfig(plugins=plugins)\n",
    "chatbot = build_chatbot(config)\n",
    "response = chatbot.predict(\"How many cores does the Intel® Xeon® Platinum 8480+ Processor have in total?\")\n",
    "print(response)"
   ]
  },
  {
   "cell_type": "markdown",
   "metadata": {},
   "source": [
    "## Voice Chat with ASR & TTS Plugin"
   ]
  },
  {
   "cell_type": "markdown",
   "metadata": {},
   "source": [
    "In the context of voice chat, users have the option to engage in various modes: utilizing input audio and receiving output audio, employing input audio and receiving textual output, or providing input in textual form and receiving audio output.\n",
    "\n",
    "For the Python API code, users have the option to enable different voice chat modes by setting ASR and TTS plugins enable or disable."
   ]
  },
  {
   "cell_type": "code",
   "execution_count": 11,
   "metadata": {},
   "outputs": [
    {
     "name": "stdout",
     "output_type": "stream",
     "text": [
      "/home/u41a5ebdbca214faa0191cc237aed1b9/intel-extension-for-transformers/intel_extension_for_transformers/neural_chat/docs/notebooks/intel-extension-for-transformers/intel_extension_for_transformers/neural_chat/pipeline/plugins/audio\n",
      "Defaulting to user installation because normal site-packages is not writeable\n",
      "Ignoring openjtalk: markers 'sys_platform != \"linux\"' don't match your environment\n",
      "Collecting cn2an (from -r requirements.txt (line 1))\n",
      "  Downloading cn2an-0.5.22-py3-none-any.whl.metadata (10 kB)\n",
      "Requirement already satisfied: datasets in /home/u41a5ebdbca214faa0191cc237aed1b9/.local/lib/python3.9/site-packages (from -r requirements.txt (line 2)) (2.20.0)\n",
      "Collecting g2p_en (from -r requirements.txt (line 3))\n",
      "  Downloading g2p_en-2.1.0-py3-none-any.whl.metadata (4.5 kB)\n",
      "Collecting inflect (from -r requirements.txt (line 4))\n",
      "  Downloading inflect-7.3.0-py3-none-any.whl.metadata (21 kB)\n",
      "Collecting jaconv (from -r requirements.txt (line 5))\n",
      "  Downloading jaconv-0.3.4.tar.gz (16 kB)\n",
      "  Preparing metadata (setup.py) ... \u001b[?25ldone\n",
      "\u001b[?25hCollecting jieba (from -r requirements.txt (line 6))\n",
      "  Downloading jieba-0.42.1.tar.gz (19.2 MB)\n",
      "\u001b[2K     \u001b[90m━━━━━━━━━━━━━━━━━━━━━━━━━━━━━━━━━━━━━━━━\u001b[0m \u001b[32m19.2/19.2 MB\u001b[0m \u001b[31m62.3 MB/s\u001b[0m eta \u001b[36m0:00:00\u001b[0m00:01\u001b[0m00:01\u001b[0m\n",
      "\u001b[?25h  Preparing metadata (setup.py) ... \u001b[?25ldone\n",
      "\u001b[?25hRequirement already satisfied: langid in /home/u41a5ebdbca214faa0191cc237aed1b9/.local/lib/python3.9/site-packages (from -r requirements.txt (line 7)) (1.1.6)\n",
      "Collecting librosa (from -r requirements.txt (line 8))\n",
      "  Downloading librosa-0.10.2.post1-py3-none-any.whl.metadata (8.6 kB)\n",
      "Collecting num2words (from -r requirements.txt (line 9))\n",
      "  Downloading num2words-0.5.13-py3-none-any.whl.metadata (12 kB)\n",
      "Collecting pydub (from -r requirements.txt (line 11))\n",
      "  Downloading pydub-0.25.1-py2.py3-none-any.whl.metadata (1.4 kB)\n",
      "Collecting pyopenjtalk (from -r requirements.txt (line 12))\n",
      "  Downloading pyopenjtalk-0.3.3.tar.gz (1.6 MB)\n",
      "\u001b[2K     \u001b[90m━━━━━━━━━━━━━━━━━━━━━━━━━━━━━━━━━━━━━━━━\u001b[0m \u001b[32m1.6/1.6 MB\u001b[0m \u001b[31m64.0 MB/s\u001b[0m eta \u001b[36m0:00:00\u001b[0m\n",
      "\u001b[?25h  Installing build dependencies ... \u001b[?25ldone\n",
      "\u001b[?25h  Getting requirements to build wheel ... \u001b[?25ldone\n",
      "\u001b[?25h  Installing backend dependencies ... \u001b[?25ldone\n",
      "\u001b[?25h  Preparing metadata (pyproject.toml) ... \u001b[?25ldone\n",
      "\u001b[?25hCollecting pypinyin (from -r requirements.txt (line 13))\n",
      "  Downloading pypinyin-0.51.0-py2.py3-none-any.whl.metadata (12 kB)\n",
      "Requirement already satisfied: python-multipart in /home/u41a5ebdbca214faa0191cc237aed1b9/.local/lib/python3.9/site-packages (from -r requirements.txt (line 14)) (0.0.9)\n",
      "Collecting soundfile (from -r requirements.txt (line 15))\n",
      "  Downloading soundfile-0.12.1-py2.py3-none-manylinux_2_31_x86_64.whl.metadata (14 kB)\n",
      "Collecting speechbrain==0.5.15 (from -r requirements.txt (line 16))\n",
      "  Downloading speechbrain-0.5.15-py3-none-any.whl.metadata (23 kB)\n",
      "Requirement already satisfied: transformers in /home/u41a5ebdbca214faa0191cc237aed1b9/.local/lib/python3.9/site-packages (from -r requirements.txt (line 17)) (4.41.2)\n",
      "Requirement already satisfied: urllib3 in /opt/intel/oneapi/intelpython/lib/python3.9/site-packages (from -r requirements.txt (line 18)) (2.2.1)\n",
      "Collecting vector_quantize_pytorch (from -r requirements.txt (line 19))\n",
      "  Downloading vector_quantize_pytorch-1.14.42-py3-none-any.whl.metadata (26 kB)\n",
      "Collecting webrtcvad (from -r requirements.txt (line 20))\n",
      "  Downloading webrtcvad-2.0.10.tar.gz (66 kB)\n",
      "\u001b[2K     \u001b[90m━━━━━━━━━━━━━━━━━━━━━━━━━━━━━━━━━━━━━━━━\u001b[0m \u001b[32m66.2/66.2 kB\u001b[0m \u001b[31m4.2 MB/s\u001b[0m eta \u001b[36m0:00:00\u001b[0m\n",
      "\u001b[?25h  Preparing metadata (setup.py) ... \u001b[?25ldone\n",
      "\u001b[?25hCollecting zhconv (from -r requirements.txt (line 21))\n",
      "  Downloading zhconv-1.4.3.tar.gz (211 kB)\n",
      "\u001b[2K     \u001b[90m━━━━━━━━━━━━━━━━━━━━━━━━━━━━━━━━━━━━━━\u001b[0m \u001b[32m211.6/211.6 kB\u001b[0m \u001b[31m13.0 MB/s\u001b[0m eta \u001b[36m0:00:00\u001b[0m\n",
      "\u001b[?25h  Preparing metadata (setup.py) ... \u001b[?25ldone\n",
      "\u001b[?25hCollecting hyperpyyaml (from speechbrain==0.5.15->-r requirements.txt (line 16))\n",
      "  Downloading HyperPyYAML-1.2.2-py3-none-any.whl.metadata (7.6 kB)\n",
      "Requirement already satisfied: joblib in /opt/intel/oneapi/intelpython/lib/python3.9/site-packages (from speechbrain==0.5.15->-r requirements.txt (line 16)) (1.3.2)\n",
      "Requirement already satisfied: numpy in /home/u41a5ebdbca214faa0191cc237aed1b9/.local/lib/python3.9/site-packages (from speechbrain==0.5.15->-r requirements.txt (line 16)) (1.23.5)\n",
      "Requirement already satisfied: packaging in /opt/intel/oneapi/intelpython/lib/python3.9/site-packages (from speechbrain==0.5.15->-r requirements.txt (line 16)) (23.2)\n",
      "Requirement already satisfied: scipy in /opt/intel/oneapi/intelpython/lib/python3.9/site-packages (from speechbrain==0.5.15->-r requirements.txt (line 16)) (1.10.1)\n",
      "Requirement already satisfied: sentencepiece in /home/u41a5ebdbca214faa0191cc237aed1b9/.local/lib/python3.9/site-packages (from speechbrain==0.5.15->-r requirements.txt (line 16)) (0.2.0)\n",
      "Requirement already satisfied: torch>=1.9 in /home/u41a5ebdbca214faa0191cc237aed1b9/.local/lib/python3.9/site-packages (from speechbrain==0.5.15->-r requirements.txt (line 16)) (2.3.0)\n",
      "Requirement already satisfied: torchaudio in /home/u41a5ebdbca214faa0191cc237aed1b9/.local/lib/python3.9/site-packages (from speechbrain==0.5.15->-r requirements.txt (line 16)) (2.3.0)\n",
      "Requirement already satisfied: tqdm in /home/u41a5ebdbca214faa0191cc237aed1b9/.local/lib/python3.9/site-packages (from speechbrain==0.5.15->-r requirements.txt (line 16)) (4.66.4)\n",
      "Requirement already satisfied: huggingface-hub in /home/u41a5ebdbca214faa0191cc237aed1b9/.local/lib/python3.9/site-packages (from speechbrain==0.5.15->-r requirements.txt (line 16)) (0.23.4)\n",
      "Requirement already satisfied: setuptools>=47.3.1 in /opt/intel/oneapi/intelpython/lib/python3.9/site-packages (from cn2an->-r requirements.txt (line 1)) (69.1.0)\n",
      "Collecting proces>=0.1.3 (from cn2an->-r requirements.txt (line 1))\n",
      "  Downloading proces-0.1.7-py3-none-any.whl.metadata (3.3 kB)\n",
      "Requirement already satisfied: filelock in /home/u41a5ebdbca214faa0191cc237aed1b9/.local/lib/python3.9/site-packages (from datasets->-r requirements.txt (line 2)) (3.15.4)\n",
      "Requirement already satisfied: pyarrow>=15.0.0 in /home/u41a5ebdbca214faa0191cc237aed1b9/.local/lib/python3.9/site-packages (from datasets->-r requirements.txt (line 2)) (16.1.0)\n",
      "Requirement already satisfied: pyarrow-hotfix in /home/u41a5ebdbca214faa0191cc237aed1b9/.local/lib/python3.9/site-packages (from datasets->-r requirements.txt (line 2)) (0.6)\n",
      "Requirement already satisfied: dill<0.3.9,>=0.3.0 in /home/u41a5ebdbca214faa0191cc237aed1b9/.local/lib/python3.9/site-packages (from datasets->-r requirements.txt (line 2)) (0.3.8)\n",
      "Requirement already satisfied: pandas in /opt/intel/oneapi/intelpython/lib/python3.9/site-packages (from datasets->-r requirements.txt (line 2)) (2.2.2)\n",
      "Requirement already satisfied: requests>=2.32.2 in /home/u41a5ebdbca214faa0191cc237aed1b9/.local/lib/python3.9/site-packages (from datasets->-r requirements.txt (line 2)) (2.32.3)\n",
      "Requirement already satisfied: xxhash in /home/u41a5ebdbca214faa0191cc237aed1b9/.local/lib/python3.9/site-packages (from datasets->-r requirements.txt (line 2)) (3.4.1)\n",
      "Requirement already satisfied: multiprocess in /home/u41a5ebdbca214faa0191cc237aed1b9/.local/lib/python3.9/site-packages (from datasets->-r requirements.txt (line 2)) (0.70.16)\n",
      "Requirement already satisfied: fsspec<=2024.5.0,>=2023.1.0 in /home/u41a5ebdbca214faa0191cc237aed1b9/.local/lib/python3.9/site-packages (from fsspec[http]<=2024.5.0,>=2023.1.0->datasets->-r requirements.txt (line 2)) (2024.5.0)\n",
      "Requirement already satisfied: aiohttp in /home/u41a5ebdbca214faa0191cc237aed1b9/.local/lib/python3.9/site-packages (from datasets->-r requirements.txt (line 2)) (3.9.5)\n",
      "Requirement already satisfied: pyyaml>=5.1 in /opt/intel/oneapi/intelpython/lib/python3.9/site-packages (from datasets->-r requirements.txt (line 2)) (6.0.1)\n",
      "Requirement already satisfied: nltk>=3.2.4 in /home/u41a5ebdbca214faa0191cc237aed1b9/.local/lib/python3.9/site-packages (from g2p_en->-r requirements.txt (line 3)) (3.8.1)\n",
      "Collecting distance>=0.1.3 (from g2p_en->-r requirements.txt (line 3))\n",
      "  Downloading Distance-0.1.3.tar.gz (180 kB)\n",
      "\u001b[2K     \u001b[90m━━━━━━━━━━━━━━━━━━━━━━━━━━━━━━━━━━━━━━\u001b[0m \u001b[32m180.3/180.3 kB\u001b[0m \u001b[31m12.7 MB/s\u001b[0m eta \u001b[36m0:00:00\u001b[0m\n",
      "\u001b[?25h  Preparing metadata (setup.py) ... \u001b[?25ldone\n",
      "\u001b[?25hRequirement already satisfied: more-itertools in /home/u41a5ebdbca214faa0191cc237aed1b9/.local/lib/python3.9/site-packages (from inflect->-r requirements.txt (line 4)) (10.3.0)\n",
      "Collecting typeguard>=4.0.1 (from inflect->-r requirements.txt (line 4))\n",
      "  Downloading typeguard-4.3.0-py3-none-any.whl.metadata (3.7 kB)\n",
      "Collecting audioread>=2.1.9 (from librosa->-r requirements.txt (line 8))\n",
      "  Downloading audioread-3.0.1-py3-none-any.whl.metadata (8.4 kB)\n",
      "Requirement already satisfied: scikit-learn>=0.20.0 in /opt/intel/oneapi/intelpython/lib/python3.9/site-packages (from librosa->-r requirements.txt (line 8)) (1.4.0)\n",
      "Requirement already satisfied: decorator>=4.3.0 in /opt/intel/oneapi/intelpython/lib/python3.9/site-packages (from librosa->-r requirements.txt (line 8)) (5.0.9)\n",
      "Requirement already satisfied: numba>=0.51.0 in /opt/intel/oneapi/intelpython/lib/python3.9/site-packages (from librosa->-r requirements.txt (line 8)) (0.59.0)\n",
      "Requirement already satisfied: pooch>=1.1 in /opt/intel/oneapi/intelpython/lib/python3.9/site-packages (from librosa->-r requirements.txt (line 8)) (1.8.1)\n",
      "Collecting soxr>=0.3.2 (from librosa->-r requirements.txt (line 8))\n",
      "  Downloading soxr-0.3.7-cp39-cp39-manylinux_2_17_x86_64.manylinux2014_x86_64.whl.metadata (5.5 kB)\n",
      "Requirement already satisfied: typing-extensions>=4.1.1 in /opt/intel/oneapi/intelpython/lib/python3.9/site-packages (from librosa->-r requirements.txt (line 8)) (4.9.0)\n",
      "Requirement already satisfied: lazy-loader>=0.1 in /home/u41a5ebdbca214faa0191cc237aed1b9/.local/lib/python3.9/site-packages (from librosa->-r requirements.txt (line 8)) (0.4)\n",
      "Collecting msgpack>=1.0 (from librosa->-r requirements.txt (line 8))\n",
      "  Downloading msgpack-1.0.8-cp39-cp39-manylinux_2_17_x86_64.manylinux2014_x86_64.whl.metadata (9.1 kB)\n",
      "Collecting docopt>=0.6.2 (from num2words->-r requirements.txt (line 9))\n",
      "  Downloading docopt-0.6.2.tar.gz (25 kB)\n",
      "  Preparing metadata (setup.py) ... \u001b[?25ldone\n",
      "\u001b[?25hRequirement already satisfied: six in /opt/intel/oneapi/intelpython/lib/python3.9/site-packages (from pyopenjtalk->-r requirements.txt (line 12)) (1.16.0)\n",
      "Requirement already satisfied: cffi>=1.0 in /opt/intel/oneapi/intelpython/lib/python3.9/site-packages (from soundfile->-r requirements.txt (line 15)) (1.16.0)\n",
      "Requirement already satisfied: regex!=2019.12.17 in /home/u41a5ebdbca214faa0191cc237aed1b9/.local/lib/python3.9/site-packages (from transformers->-r requirements.txt (line 17)) (2024.5.15)\n",
      "Requirement already satisfied: tokenizers<0.20,>=0.19 in /home/u41a5ebdbca214faa0191cc237aed1b9/.local/lib/python3.9/site-packages (from transformers->-r requirements.txt (line 17)) (0.19.1)\n",
      "Requirement already satisfied: safetensors>=0.4.1 in /home/u41a5ebdbca214faa0191cc237aed1b9/.local/lib/python3.9/site-packages (from transformers->-r requirements.txt (line 17)) (0.4.3)\n",
      "Requirement already satisfied: einops>=0.8.0 in /home/u41a5ebdbca214faa0191cc237aed1b9/.local/lib/python3.9/site-packages (from vector_quantize_pytorch->-r requirements.txt (line 19)) (0.8.0)\n",
      "Collecting einx>=0.2.2 (from vector_quantize_pytorch->-r requirements.txt (line 19))\n",
      "  Downloading einx-0.3.0-py3-none-any.whl.metadata (6.9 kB)\n",
      "Requirement already satisfied: pycparser in /opt/intel/oneapi/intelpython/lib/python3.9/site-packages (from cffi>=1.0->soundfile->-r requirements.txt (line 15)) (2.21)\n",
      "Requirement already satisfied: sympy in /home/u41a5ebdbca214faa0191cc237aed1b9/.local/lib/python3.9/site-packages (from einx>=0.2.2->vector_quantize_pytorch->-r requirements.txt (line 19)) (1.12.1)\n",
      "Collecting frozendict (from einx>=0.2.2->vector_quantize_pytorch->-r requirements.txt (line 19))\n",
      "  Downloading frozendict-2.4.4-cp39-cp39-manylinux_2_17_x86_64.manylinux2014_x86_64.whl.metadata (23 kB)\n",
      "Requirement already satisfied: aiosignal>=1.1.2 in /home/u41a5ebdbca214faa0191cc237aed1b9/.local/lib/python3.9/site-packages (from aiohttp->datasets->-r requirements.txt (line 2)) (1.3.1)\n",
      "Requirement already satisfied: attrs>=17.3.0 in /opt/intel/oneapi/intelpython/lib/python3.9/site-packages (from aiohttp->datasets->-r requirements.txt (line 2)) (23.2.0)\n",
      "Requirement already satisfied: frozenlist>=1.1.1 in /home/u41a5ebdbca214faa0191cc237aed1b9/.local/lib/python3.9/site-packages (from aiohttp->datasets->-r requirements.txt (line 2)) (1.4.1)\n",
      "Requirement already satisfied: multidict<7.0,>=4.5 in /home/u41a5ebdbca214faa0191cc237aed1b9/.local/lib/python3.9/site-packages (from aiohttp->datasets->-r requirements.txt (line 2)) (6.0.5)\n",
      "Requirement already satisfied: yarl<2.0,>=1.0 in /home/u41a5ebdbca214faa0191cc237aed1b9/.local/lib/python3.9/site-packages (from aiohttp->datasets->-r requirements.txt (line 2)) (1.9.4)\n",
      "Requirement already satisfied: async-timeout<5.0,>=4.0 in /home/u41a5ebdbca214faa0191cc237aed1b9/.local/lib/python3.9/site-packages (from aiohttp->datasets->-r requirements.txt (line 2)) (4.0.3)\n",
      "Requirement already satisfied: click in /home/u41a5ebdbca214faa0191cc237aed1b9/.local/lib/python3.9/site-packages (from nltk>=3.2.4->g2p_en->-r requirements.txt (line 3)) (8.1.7)\n",
      "Requirement already satisfied: llvmlite<0.43,>=0.42.0dev0 in /opt/intel/oneapi/intelpython/lib/python3.9/site-packages (from numba>=0.51.0->librosa->-r requirements.txt (line 8)) (0.42.0)\n",
      "Requirement already satisfied: platformdirs>=2.5.0 in /opt/intel/oneapi/intelpython/lib/python3.9/site-packages (from pooch>=1.1->librosa->-r requirements.txt (line 8)) (4.2.0)\n",
      "Requirement already satisfied: charset-normalizer<4,>=2 in /opt/intel/oneapi/intelpython/lib/python3.9/site-packages (from requests>=2.32.2->datasets->-r requirements.txt (line 2)) (3.3.2)\n",
      "Requirement already satisfied: idna<4,>=2.5 in /opt/intel/oneapi/intelpython/lib/python3.9/site-packages (from requests>=2.32.2->datasets->-r requirements.txt (line 2)) (3.6)\n",
      "Requirement already satisfied: certifi>=2017.4.17 in /opt/intel/oneapi/intelpython/lib/python3.9/site-packages (from requests>=2.32.2->datasets->-r requirements.txt (line 2)) (2024.2.2)\n",
      "Requirement already satisfied: threadpoolctl>=2.0.0 in /opt/intel/oneapi/intelpython/lib/python3.9/site-packages (from scikit-learn>=0.20.0->librosa->-r requirements.txt (line 8)) (3.3.0)\n",
      "Requirement already satisfied: networkx in /home/u41a5ebdbca214faa0191cc237aed1b9/.local/lib/python3.9/site-packages (from torch>=1.9->speechbrain==0.5.15->-r requirements.txt (line 16)) (3.2.1)\n",
      "Requirement already satisfied: jinja2 in /opt/intel/oneapi/intelpython/lib/python3.9/site-packages (from torch>=1.9->speechbrain==0.5.15->-r requirements.txt (line 16)) (3.1.3)\n",
      "Requirement already satisfied: nvidia-cuda-nvrtc-cu12==12.1.105 in /home/u41a5ebdbca214faa0191cc237aed1b9/.local/lib/python3.9/site-packages (from torch>=1.9->speechbrain==0.5.15->-r requirements.txt (line 16)) (12.1.105)\n",
      "Requirement already satisfied: nvidia-cuda-runtime-cu12==12.1.105 in /home/u41a5ebdbca214faa0191cc237aed1b9/.local/lib/python3.9/site-packages (from torch>=1.9->speechbrain==0.5.15->-r requirements.txt (line 16)) (12.1.105)\n",
      "Requirement already satisfied: nvidia-cuda-cupti-cu12==12.1.105 in /home/u41a5ebdbca214faa0191cc237aed1b9/.local/lib/python3.9/site-packages (from torch>=1.9->speechbrain==0.5.15->-r requirements.txt (line 16)) (12.1.105)\n",
      "Requirement already satisfied: nvidia-cudnn-cu12==8.9.2.26 in /home/u41a5ebdbca214faa0191cc237aed1b9/.local/lib/python3.9/site-packages (from torch>=1.9->speechbrain==0.5.15->-r requirements.txt (line 16)) (8.9.2.26)\n",
      "Requirement already satisfied: nvidia-cublas-cu12==12.1.3.1 in /home/u41a5ebdbca214faa0191cc237aed1b9/.local/lib/python3.9/site-packages (from torch>=1.9->speechbrain==0.5.15->-r requirements.txt (line 16)) (12.1.3.1)\n",
      "Requirement already satisfied: nvidia-cufft-cu12==11.0.2.54 in /home/u41a5ebdbca214faa0191cc237aed1b9/.local/lib/python3.9/site-packages (from torch>=1.9->speechbrain==0.5.15->-r requirements.txt (line 16)) (11.0.2.54)\n",
      "Requirement already satisfied: nvidia-curand-cu12==10.3.2.106 in /home/u41a5ebdbca214faa0191cc237aed1b9/.local/lib/python3.9/site-packages (from torch>=1.9->speechbrain==0.5.15->-r requirements.txt (line 16)) (10.3.2.106)\n",
      "Requirement already satisfied: nvidia-cusolver-cu12==11.4.5.107 in /home/u41a5ebdbca214faa0191cc237aed1b9/.local/lib/python3.9/site-packages (from torch>=1.9->speechbrain==0.5.15->-r requirements.txt (line 16)) (11.4.5.107)\n",
      "Requirement already satisfied: nvidia-cusparse-cu12==12.1.0.106 in /home/u41a5ebdbca214faa0191cc237aed1b9/.local/lib/python3.9/site-packages (from torch>=1.9->speechbrain==0.5.15->-r requirements.txt (line 16)) (12.1.0.106)\n",
      "Requirement already satisfied: nvidia-nccl-cu12==2.20.5 in /home/u41a5ebdbca214faa0191cc237aed1b9/.local/lib/python3.9/site-packages (from torch>=1.9->speechbrain==0.5.15->-r requirements.txt (line 16)) (2.20.5)\n",
      "Requirement already satisfied: nvidia-nvtx-cu12==12.1.105 in /home/u41a5ebdbca214faa0191cc237aed1b9/.local/lib/python3.9/site-packages (from torch>=1.9->speechbrain==0.5.15->-r requirements.txt (line 16)) (12.1.105)\n",
      "Requirement already satisfied: triton==2.3.0 in /home/u41a5ebdbca214faa0191cc237aed1b9/.local/lib/python3.9/site-packages (from torch>=1.9->speechbrain==0.5.15->-r requirements.txt (line 16)) (2.3.0)\n",
      "Requirement already satisfied: nvidia-nvjitlink-cu12 in /home/u41a5ebdbca214faa0191cc237aed1b9/.local/lib/python3.9/site-packages (from nvidia-cusolver-cu12==11.4.5.107->torch>=1.9->speechbrain==0.5.15->-r requirements.txt (line 16)) (12.5.40)\n",
      "Collecting typing-extensions>=4.1.1 (from librosa->-r requirements.txt (line 8))\n",
      "  Downloading typing_extensions-4.12.2-py3-none-any.whl.metadata (3.0 kB)\n",
      "Requirement already satisfied: importlib-metadata>=3.6 in /opt/intel/oneapi/intelpython/lib/python3.9/site-packages (from typeguard>=4.0.1->inflect->-r requirements.txt (line 4)) (7.0.2)\n",
      "Requirement already satisfied: ruamel.yaml>=0.17.28 in /opt/intel/oneapi/intelpython/lib/python3.9/site-packages (from hyperpyyaml->speechbrain==0.5.15->-r requirements.txt (line 16)) (0.17.40)\n",
      "Requirement already satisfied: python-dateutil>=2.8.2 in /opt/intel/oneapi/intelpython/lib/python3.9/site-packages (from pandas->datasets->-r requirements.txt (line 2)) (2.8.2)\n",
      "Requirement already satisfied: pytz>=2020.1 in /opt/intel/oneapi/intelpython/lib/python3.9/site-packages (from pandas->datasets->-r requirements.txt (line 2)) (2024.1)\n",
      "Requirement already satisfied: tzdata>=2022.7 in /opt/intel/oneapi/intelpython/lib/python3.9/site-packages (from pandas->datasets->-r requirements.txt (line 2)) (2023.4)\n",
      "Requirement already satisfied: zipp>=0.5 in /opt/intel/oneapi/intelpython/lib/python3.9/site-packages (from importlib-metadata>=3.6->typeguard>=4.0.1->inflect->-r requirements.txt (line 4)) (3.17.0)\n",
      "Requirement already satisfied: ruamel.yaml.clib>=0.2.7 in /opt/intel/oneapi/intelpython/lib/python3.9/site-packages (from ruamel.yaml>=0.17.28->hyperpyyaml->speechbrain==0.5.15->-r requirements.txt (line 16)) (0.2.8)\n",
      "Requirement already satisfied: MarkupSafe>=2.0 in /opt/intel/oneapi/intelpython/lib/python3.9/site-packages (from jinja2->torch>=1.9->speechbrain==0.5.15->-r requirements.txt (line 16)) (2.1.4)\n",
      "Requirement already satisfied: mpmath<1.4.0,>=1.1.0 in /home/u41a5ebdbca214faa0191cc237aed1b9/.local/lib/python3.9/site-packages (from sympy->einx>=0.2.2->vector_quantize_pytorch->-r requirements.txt (line 19)) (1.3.0)\n",
      "Downloading speechbrain-0.5.15-py3-none-any.whl (553 kB)\n",
      "\u001b[2K   \u001b[90m━━━━━━━━━━━━━━━━━━━━━━━━━━━━━━━━━━━━━━━━\u001b[0m \u001b[32m553.8/553.8 kB\u001b[0m \u001b[31m33.1 MB/s\u001b[0m eta \u001b[36m0:00:00\u001b[0m\n",
      "\u001b[?25hDownloading cn2an-0.5.22-py3-none-any.whl (224 kB)\n",
      "\u001b[2K   \u001b[90m━━━━━━━━━━━━━━━━━━━━━━━━━━━━━━━━━━━━━━━━\u001b[0m \u001b[32m225.0/225.0 kB\u001b[0m \u001b[31m18.5 MB/s\u001b[0m eta \u001b[36m0:00:00\u001b[0m\n",
      "\u001b[?25hDownloading g2p_en-2.1.0-py3-none-any.whl (3.1 MB)\n",
      "\u001b[2K   \u001b[90m━━━━━━━━━━━━━━━━━━━━━━━━━━━━━━━━━━━━━━━━\u001b[0m \u001b[32m3.1/3.1 MB\u001b[0m \u001b[31m80.6 MB/s\u001b[0m eta \u001b[36m0:00:00\u001b[0m:00:01\u001b[0m\n",
      "\u001b[?25hDownloading inflect-7.3.0-py3-none-any.whl (34 kB)\n",
      "Downloading librosa-0.10.2.post1-py3-none-any.whl (260 kB)\n",
      "\u001b[2K   \u001b[90m━━━━━━━━━━━━━━━━━━━━━━━━━━━━━━━━━━━━━━━━\u001b[0m \u001b[32m260.1/260.1 kB\u001b[0m \u001b[31m14.7 MB/s\u001b[0m eta \u001b[36m0:00:00\u001b[0m\n",
      "\u001b[?25hDownloading num2words-0.5.13-py3-none-any.whl (143 kB)\n",
      "\u001b[2K   \u001b[90m━━━━━━━━━━━━━━━━━━━━━━━━━━━━━━━━━━━━━━━━\u001b[0m \u001b[32m143.3/143.3 kB\u001b[0m \u001b[31m10.5 MB/s\u001b[0m eta \u001b[36m0:00:00\u001b[0m\n",
      "\u001b[?25hDownloading pydub-0.25.1-py2.py3-none-any.whl (32 kB)\n",
      "Downloading pypinyin-0.51.0-py2.py3-none-any.whl (1.4 MB)\n",
      "\u001b[2K   \u001b[90m━━━━━━━━━━━━━━━━━━━━━━━━━━━━━━━━━━━━━━━━\u001b[0m \u001b[32m1.4/1.4 MB\u001b[0m \u001b[31m56.0 MB/s\u001b[0m eta \u001b[36m0:00:00\u001b[0m\n",
      "\u001b[?25hDownloading soundfile-0.12.1-py2.py3-none-manylinux_2_31_x86_64.whl (1.2 MB)\n",
      "\u001b[2K   \u001b[90m━━━━━━━━━━━━━━━━━━━━━━━━━━━━━━━━━━━━━━━━\u001b[0m \u001b[32m1.2/1.2 MB\u001b[0m \u001b[31m62.1 MB/s\u001b[0m eta \u001b[36m0:00:00\u001b[0m\n",
      "\u001b[?25hDownloading vector_quantize_pytorch-1.14.42-py3-none-any.whl (37 kB)\n",
      "Downloading audioread-3.0.1-py3-none-any.whl (23 kB)\n",
      "Downloading einx-0.3.0-py3-none-any.whl (102 kB)\n",
      "\u001b[2K   \u001b[90m━━━━━━━━━━━━━━━━━━━━━━━━━━━━━━━━━━━━━━━━\u001b[0m \u001b[32m103.0/103.0 kB\u001b[0m \u001b[31m8.3 MB/s\u001b[0m eta \u001b[36m0:00:00\u001b[0m\n",
      "\u001b[?25hDownloading msgpack-1.0.8-cp39-cp39-manylinux_2_17_x86_64.manylinux2014_x86_64.whl (385 kB)\n",
      "\u001b[2K   \u001b[90m━━━━━━━━━━━━━━━━━━━━━━━━━━━━━━━━━━━━━━━━\u001b[0m \u001b[32m385.1/385.1 kB\u001b[0m \u001b[31m26.4 MB/s\u001b[0m eta \u001b[36m0:00:00\u001b[0m\n",
      "\u001b[?25hDownloading proces-0.1.7-py3-none-any.whl (137 kB)\n",
      "\u001b[2K   \u001b[90m━━━━━━━━━━━━━━━━━━━━━━━━━━━━━━━━━━━━━━━━\u001b[0m \u001b[32m137.7/137.7 kB\u001b[0m \u001b[31m10.5 MB/s\u001b[0m eta \u001b[36m0:00:00\u001b[0m\n",
      "\u001b[?25hDownloading soxr-0.3.7-cp39-cp39-manylinux_2_17_x86_64.manylinux2014_x86_64.whl (1.2 MB)\n",
      "\u001b[2K   \u001b[90m━━━━━━━━━━━━━━━━━━━━━━━━━━━━━━━━━━━━━━━━\u001b[0m \u001b[32m1.2/1.2 MB\u001b[0m \u001b[31m55.5 MB/s\u001b[0m eta \u001b[36m0:00:00\u001b[0m\n",
      "\u001b[?25hDownloading typeguard-4.3.0-py3-none-any.whl (35 kB)\n",
      "Downloading typing_extensions-4.12.2-py3-none-any.whl (37 kB)\n",
      "Downloading HyperPyYAML-1.2.2-py3-none-any.whl (16 kB)\n",
      "Downloading frozendict-2.4.4-cp39-cp39-manylinux_2_17_x86_64.manylinux2014_x86_64.whl (116 kB)\n",
      "\u001b[2K   \u001b[90m━━━━━━━━━━━━━━━━━━━━━━━━━━━━━━━━━━━━━━━━\u001b[0m \u001b[32m116.8/116.8 kB\u001b[0m \u001b[31m8.5 MB/s\u001b[0m eta \u001b[36m0:00:00\u001b[0m\n",
      "\u001b[?25hBuilding wheels for collected packages: jaconv, jieba, pyopenjtalk, webrtcvad, zhconv, distance, docopt\n",
      "  Building wheel for jaconv (setup.py) ... \u001b[?25ldone\n",
      "\u001b[?25h  Created wheel for jaconv: filename=jaconv-0.3.4-py3-none-any.whl size=16415 sha256=fbfad39bee958d4387f56ff4a6e9d44c1a2a4a6e716d3de165aa38ae0c8d327b\n",
      "  Stored in directory: /home/u41a5ebdbca214faa0191cc237aed1b9/.cache/pip/wheels/49/de/f1/55f605920db3666d30215331bc85f24686dde9b95b473ae41b\n",
      "  Building wheel for jieba (setup.py) ... \u001b[?25ldone\n",
      "\u001b[?25h  Created wheel for jieba: filename=jieba-0.42.1-py3-none-any.whl size=19314459 sha256=2a88c9f971215ab34995f1ed70279b02e64d2482042a7d577ce8644205b240f8\n",
      "  Stored in directory: /home/u41a5ebdbca214faa0191cc237aed1b9/.cache/pip/wheels/7d/74/cf/08c94db4b784e2c1ef675a600b7b5b281fd25240dcb954ee7e\n",
      "  Building wheel for pyopenjtalk (pyproject.toml) ... \u001b[?25ldone\n",
      "\u001b[?25h  Created wheel for pyopenjtalk: filename=pyopenjtalk-0.3.3-cp39-cp39-linux_x86_64.whl size=1193583 sha256=f38346fe368c61067acf6360cc58c3d8fb2dccd4fc59f15f8d99fc6e12e72264\n",
      "  Stored in directory: /home/u41a5ebdbca214faa0191cc237aed1b9/.cache/pip/wheels/d6/1e/46/f15c401c93d6fdf1dba5c9268033c057d033f6243e8f51e806\n",
      "  Building wheel for webrtcvad (setup.py) ... \u001b[?25ldone\n",
      "\u001b[?25h  Created wheel for webrtcvad: filename=webrtcvad-2.0.10-cp39-cp39-linux_x86_64.whl size=27581 sha256=fff7acf398e07d45bf31e80c3fbefcd761d70167f46a773058976fcdb8267c00\n",
      "  Stored in directory: /home/u41a5ebdbca214faa0191cc237aed1b9/.cache/pip/wheels/1f/fe/28/e8f0d5847ae2642b49fa974db1cea44d59ab59d0251c12f17b\n",
      "  Building wheel for zhconv (setup.py) ... \u001b[?25ldone\n",
      "\u001b[?25h  Created wheel for zhconv: filename=zhconv-1.4.3-py2.py3-none-any.whl size=208851 sha256=256ed355d808d742343e2b45b290eb68e453a4c871fe54c3babb1ff798077bc0\n",
      "  Stored in directory: /home/u41a5ebdbca214faa0191cc237aed1b9/.cache/pip/wheels/a6/f6/f3/5630825019bccc6cf6af7bdb907a13df305876a130723caa40\n",
      "  Building wheel for distance (setup.py) ... \u001b[?25ldone\n",
      "\u001b[?25h  Created wheel for distance: filename=Distance-0.1.3-py3-none-any.whl size=16258 sha256=067dd8dce007ba9c69a8c8d497c77724e894f0c944ac7ed8ef3f836756bd09e4\n",
      "  Stored in directory: /home/u41a5ebdbca214faa0191cc237aed1b9/.cache/pip/wheels/fb/b3/aa/04241cced6d1722b132273b1d6aafba317887ec004f48b853a\n",
      "  Building wheel for docopt (setup.py) ... \u001b[?25ldone\n",
      "\u001b[?25h  Created wheel for docopt: filename=docopt-0.6.2-py2.py3-none-any.whl size=13706 sha256=50a891c2a7eda47245e823f9a36e570b66a15447c109d886e4d0a2068400d1df\n",
      "  Stored in directory: /home/u41a5ebdbca214faa0191cc237aed1b9/.cache/pip/wheels/70/4a/46/1309fc853b8d395e60bafaf1b6df7845bdd82c95fd59dd8d2b\n",
      "Successfully built jaconv jieba pyopenjtalk webrtcvad zhconv distance docopt\n",
      "Installing collected packages: zhconv, webrtcvad, pydub, jieba, jaconv, docopt, distance, typing-extensions, soxr, pypinyin, pyopenjtalk, proces, num2words, msgpack, frozendict, audioread, typeguard, soundfile, hyperpyyaml, einx, cn2an, librosa, inflect, vector_quantize_pytorch, g2p_en, speechbrain\n",
      "\u001b[33m  WARNING: The script pypinyin is installed in '/home/u41a5ebdbca214faa0191cc237aed1b9/.local/bin' which is not on PATH.\n",
      "  Consider adding this directory to PATH or, if you prefer to suppress this warning, use --no-warn-script-location.\u001b[0m\u001b[33m\n",
      "\u001b[0mSuccessfully installed audioread-3.0.1 cn2an-0.5.22 distance-0.1.3 docopt-0.6.2 einx-0.3.0 frozendict-2.4.4 g2p_en-2.1.0 hyperpyyaml-1.2.2 inflect-7.3.0 jaconv-0.3.4 jieba-0.42.1 librosa-0.10.2.post1 msgpack-1.0.8 num2words-0.5.13 proces-0.1.7 pydub-0.25.1 pyopenjtalk-0.3.3 pypinyin-0.51.0 soundfile-0.12.1 soxr-0.3.7 speechbrain-0.5.15 typeguard-4.3.0 typing-extensions-4.12.2 vector_quantize_pytorch-1.14.42 webrtcvad-2.0.10 zhconv-1.4.3\n",
      "/home/u41a5ebdbca214faa0191cc237aed1b9/intel-extension-for-transformers/intel_extension_for_transformers/neural_chat/docs/notebooks\n"
     ]
    }
   ],
   "source": [
    "%cd ./intel-extension-for-transformers/intel_extension_for_transformers/neural_chat/pipeline/plugins/audio/\n",
    "!pip install -r requirements.txt\n",
    "%cd ../../../../../../"
   ]
  },
  {
   "cell_type": "code",
   "execution_count": 12,
   "metadata": {},
   "outputs": [
    {
     "name": "stdout",
     "output_type": "stream",
     "text": [
      "  % Total    % Received % Xferd  Average Speed   Time    Time     Time  Current\n",
      "                                 Dload  Upload   Total   Spent    Left  Speed\n",
      "100  2816  100  2816    0     0  11981      0 --:--:-- --:--:-- --:--:-- 12034\n",
      "  % Total    % Received % Xferd  Average Speed   Time    Time     Time  Current\n",
      "                                 Dload  Upload   Total   Spent    Left  Speed\n",
      "100 48172  100 48172    0     0   197k      0 --:--:-- --:--:-- --:--:--  198k\n"
     ]
    }
   ],
   "source": [
    "!curl -OL https://raw.githubusercontent.com/intel/intel-extension-for-transformers/main/intel_extension_for_transformers/neural_chat/assets/speaker_embeddings/spk_embed_default.pt\n",
    "!curl -OL https://raw.githubusercontent.com/intel/intel-extension-for-transformers/main/intel_extension_for_transformers/neural_chat/assets/audio/sample.wav"
   ]
  },
  {
   "cell_type": "code",
   "execution_count": 2,
   "metadata": {},
   "outputs": [
    {
     "ename": "ModuleNotFoundError",
     "evalue": "No module named 'torch'",
     "output_type": "error",
     "traceback": [
      "\u001b[0;31m---------------------------------------------------------------------------\u001b[0m",
      "\u001b[0;31mModuleNotFoundError\u001b[0m                       Traceback (most recent call last)",
      "Cell \u001b[0;32mIn[2], line 1\u001b[0m\n\u001b[0;32m----> 1\u001b[0m \u001b[38;5;28;01mfrom\u001b[39;00m \u001b[38;5;21;01mintel_extension_for_transformers\u001b[39;00m\u001b[38;5;21;01m.\u001b[39;00m\u001b[38;5;21;01mneural_chat\u001b[39;00m \u001b[38;5;28;01mimport\u001b[39;00m PipelineConfig\n\u001b[1;32m      2\u001b[0m \u001b[38;5;28;01mfrom\u001b[39;00m \u001b[38;5;21;01mintel_extension_for_transformers\u001b[39;00m\u001b[38;5;21;01m.\u001b[39;00m\u001b[38;5;21;01mneural_chat\u001b[39;00m \u001b[38;5;28;01mimport\u001b[39;00m build_chatbot\n\u001b[1;32m      3\u001b[0m \u001b[38;5;28;01mfrom\u001b[39;00m \u001b[38;5;21;01mintel_extension_for_transformers\u001b[39;00m\u001b[38;5;21;01m.\u001b[39;00m\u001b[38;5;21;01mneural_chat\u001b[39;00m \u001b[38;5;28;01mimport\u001b[39;00m plugins\n",
      "File \u001b[0;32m~/.local/lib/python3.11/site-packages/intel_extension_for_transformers/neural_chat/__init__.py:18\u001b[0m\n\u001b[1;32m      1\u001b[0m \u001b[38;5;66;03m#!/usr/bin/env python\u001b[39;00m\n\u001b[1;32m      2\u001b[0m \u001b[38;5;66;03m# -*- coding: utf-8 -*-\u001b[39;00m\n\u001b[1;32m      3\u001b[0m \u001b[38;5;66;03m#\u001b[39;00m\n\u001b[0;32m   (...)\u001b[0m\n\u001b[1;32m     15\u001b[0m \u001b[38;5;66;03m# See the License for the specific language governing permissions and\u001b[39;00m\n\u001b[1;32m     16\u001b[0m \u001b[38;5;66;03m# limitations under the License.\u001b[39;00m\n\u001b[0;32m---> 18\u001b[0m \u001b[38;5;28;01mfrom\u001b[39;00m \u001b[38;5;21;01m.\u001b[39;00m\u001b[38;5;21;01mconfig\u001b[39;00m \u001b[38;5;28;01mimport\u001b[39;00m PipelineConfig\n\u001b[1;32m     19\u001b[0m \u001b[38;5;28;01mfrom\u001b[39;00m \u001b[38;5;21;01m.\u001b[39;00m\u001b[38;5;21;01mconfig\u001b[39;00m \u001b[38;5;28;01mimport\u001b[39;00m GenerationConfig\n\u001b[1;32m     20\u001b[0m \u001b[38;5;28;01mfrom\u001b[39;00m \u001b[38;5;21;01m.\u001b[39;00m\u001b[38;5;21;01mconfig\u001b[39;00m \u001b[38;5;28;01mimport\u001b[39;00m (\n\u001b[1;32m     21\u001b[0m     TextGenerationFinetuningConfig,\n\u001b[1;32m     22\u001b[0m     SummarizationFinetuningConfig,\n\u001b[1;32m     23\u001b[0m     CodeGenerationFinetuningConfig,\n\u001b[1;32m     24\u001b[0m     TTSFinetuningConfig\n\u001b[1;32m     25\u001b[0m )\n",
      "File \u001b[0;32m~/.local/lib/python3.11/site-packages/intel_extension_for_transformers/neural_chat/config.py:24\u001b[0m\n\u001b[1;32m     22\u001b[0m \u001b[38;5;28;01mfrom\u001b[39;00m \u001b[38;5;21;01mtransformers\u001b[39;00m\u001b[38;5;21;01m.\u001b[39;00m\u001b[38;5;21;01mutils\u001b[39;00m\u001b[38;5;21;01m.\u001b[39;00m\u001b[38;5;21;01mversions\u001b[39;00m \u001b[38;5;28;01mimport\u001b[39;00m require_version\n\u001b[1;32m     23\u001b[0m \u001b[38;5;28;01mfrom\u001b[39;00m \u001b[38;5;21;01mdataclasses\u001b[39;00m \u001b[38;5;28;01mimport\u001b[39;00m dataclass\n\u001b[0;32m---> 24\u001b[0m \u001b[38;5;28;01mfrom\u001b[39;00m \u001b[38;5;21;01m.\u001b[39;00m\u001b[38;5;21;01mutils\u001b[39;00m\u001b[38;5;21;01m.\u001b[39;00m\u001b[38;5;21;01mcommon\u001b[39;00m \u001b[38;5;28;01mimport\u001b[39;00m get_device_type\n\u001b[1;32m     26\u001b[0m \u001b[38;5;28;01mfrom\u001b[39;00m \u001b[38;5;21;01m.\u001b[39;00m\u001b[38;5;21;01mplugins\u001b[39;00m \u001b[38;5;28;01mimport\u001b[39;00m plugins\n\u001b[1;32m     27\u001b[0m \u001b[38;5;28;01mfrom\u001b[39;00m \u001b[38;5;21;01m.\u001b[39;00m\u001b[38;5;21;01mutils\u001b[39;00m\u001b[38;5;21;01m.\u001b[39;00m\u001b[38;5;21;01mcommon\u001b[39;00m \u001b[38;5;28;01mimport\u001b[39;00m is_openai_model\n",
      "File \u001b[0;32m~/.local/lib/python3.11/site-packages/intel_extension_for_transformers/neural_chat/utils/common.py:20\u001b[0m\n\u001b[1;32m     18\u001b[0m \u001b[38;5;28;01mimport\u001b[39;00m \u001b[38;5;21;01mimportlib\u001b[39;00m\n\u001b[1;32m     19\u001b[0m \u001b[38;5;28;01mimport\u001b[39;00m \u001b[38;5;21;01msys\u001b[39;00m\n\u001b[0;32m---> 20\u001b[0m \u001b[38;5;28;01mimport\u001b[39;00m \u001b[38;5;21;01mtorch\u001b[39;00m\n\u001b[1;32m     21\u001b[0m \u001b[38;5;28;01mif\u001b[39;00m sys\u001b[38;5;241m.\u001b[39mversion_info \u001b[38;5;241m<\u001b[39m (\u001b[38;5;241m3\u001b[39m, \u001b[38;5;241m8\u001b[39m):\n\u001b[1;32m     22\u001b[0m     \u001b[38;5;28;01mimport\u001b[39;00m \u001b[38;5;21;01mimportlib_metadata\u001b[39;00m\n",
      "\u001b[0;31mModuleNotFoundError\u001b[0m: No module named 'torch'"
     ]
    }
   ],
   "source": [
    "from intel_extension_for_transformers.neural_chat import PipelineConfig\n",
    "from intel_extension_for_transformers.neural_chat import build_chatbot\n",
    "from intel_extension_for_transformers.neural_chat import plugins\n",
    "plugins.tts.enable = True\n",
    "plugins.tts.args[\"output_audio_path\"] = \"./response.wav\"\n",
    "plugins.asr.enable = True\n",
    "\n",
    "config = PipelineConfig(plugins=plugins)\n",
    "chatbot = build_chatbot(config)\n",
    "result = chatbot.predict(query=\"./sample.wav\")\n",
    "print(result)"
   ]
  },
  {
   "cell_type": "markdown",
   "metadata": {},
   "source": [
    "# Low Precision Optimization"
   ]
  },
  {
   "cell_type": "markdown",
   "metadata": {},
   "source": [
    "## BF16"
   ]
  },
  {
   "cell_type": "code",
   "execution_count": 1,
   "metadata": {},
   "outputs": [
    {
     "ename": "NameError",
     "evalue": "name 'build_chatbot' is not defined",
     "output_type": "error",
     "traceback": [
      "\u001b[0;31m---------------------------------------------------------------------------\u001b[0m",
      "\u001b[0;31mNameError\u001b[0m                                 Traceback (most recent call last)",
      "Cell \u001b[0;32mIn[1], line 5\u001b[0m\n\u001b[1;32m      3\u001b[0m \u001b[38;5;28;01mfrom\u001b[39;00m \u001b[38;5;21;01mintel_extension_for_transformers\u001b[39;00m\u001b[38;5;21;01m.\u001b[39;00m\u001b[38;5;21;01mtransformers\u001b[39;00m \u001b[38;5;28;01mimport\u001b[39;00m MixedPrecisionConfig\n\u001b[1;32m      4\u001b[0m config \u001b[38;5;241m=\u001b[39m PipelineConfig(optimization_config\u001b[38;5;241m=\u001b[39mMixedPrecisionConfig())\n\u001b[0;32m----> 5\u001b[0m chatbot \u001b[38;5;241m=\u001b[39m \u001b[43mbuild_chatbot\u001b[49m(config)\n\u001b[1;32m      6\u001b[0m response \u001b[38;5;241m=\u001b[39m chatbot\u001b[38;5;241m.\u001b[39mpredict(query\u001b[38;5;241m=\u001b[39m\u001b[38;5;124m\"\u001b[39m\u001b[38;5;124mTell me about Intel Xeon Scalable Processors.\u001b[39m\u001b[38;5;124m\"\u001b[39m)\n\u001b[1;32m      7\u001b[0m \u001b[38;5;28mprint\u001b[39m(response)\n",
      "\u001b[0;31mNameError\u001b[0m: name 'build_chatbot' is not defined"
     ]
    }
   ],
   "source": [
    "# BF16 Optimization\n",
    "from intel_extension_for_transformers.neural_chat.config import PipelineConfig\n",
    "from intel_extension_for_transformers.transformers import MixedPrecisionConfig\n",
    "config = PipelineConfig(optimization_config=MixedPrecisionConfig())\n",
    "chatbot = build_chatbot(config)\n",
    "response = chatbot.predict(query=\"Tell me about Intel Xeon Scalable Processors.\")\n",
    "print(response)"
   ]
  },
  {
   "cell_type": "code",
   "execution_count": null,
   "metadata": {},
   "outputs": [],
   "source": []
  }
 ],
 "metadata": {
  "kernelspec": {
   "display_name": "neural-chat",
   "language": "python",
   "name": "neural-chat"
  },
  "language_info": {
   "codemirror_mode": {
    "name": "ipython",
    "version": 3
   },
   "file_extension": ".py",
   "mimetype": "text/x-python",
   "name": "python",
   "nbconvert_exporter": "python",
   "pygments_lexer": "ipython3",
   "version": "3.10.14"
  }
 },
 "nbformat": 4,
 "nbformat_minor": 4
}
